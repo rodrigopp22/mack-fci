{
  "nbformat": 4,
  "nbformat_minor": 0,
  "metadata": {
    "colab": {
      "name": "Compiladores-projeto1.ipynb",
      "provenance": []
    },
    "kernelspec": {
      "name": "python382jvsc74a57bd031f2aee4e71d21fbe5cf8b01ff0e069b9275f58929596ceb00d14d90e3e16cd6",
      "display_name": "Python 3.8.2 64-bit"
    },
    "language_info": {
      "name": "python",
      "version": "3.8.2-final"
    },
    "metadata": {
      "interpreter": {
        "hash": "31f2aee4e71d21fbe5cf8b01ff0e069b9275f58929596ceb00d14d90e3e16cd6"
      }
    }
  },
  "cells": [
    {
      "cell_type": "markdown",
      "metadata": {
        "id": "lSbmutC3yDyX"
      },
      "source": [
        "**PROJETO COMPILADORES - MINI PASCAL - FASE I**\n",
        "\n",
        "Discentes:\n",
        "- Daniel Matrone - \n",
        "- Rodrigo Pigatto Pasquale - 41816080"
      ]
    },
    {
      "cell_type": "markdown",
      "metadata": {
        "id": "fSgI27tH0wk3"
      },
      "source": [
        "**INSTALAÇÃO DO RPLY**"
      ]
    },
    {
      "cell_type": "code",
      "metadata": {
        "colab": {
          "base_uri": "https://localhost:8080/"
        },
        "id": "SdFrrjmLx5qu",
        "outputId": "cbdca983-3b97-495c-905d-987d67bb873b"
      },
      "source": [
        "!pip install rply"
      ],
      "execution_count": 2,
      "outputs": [
        {
          "output_type": "stream",
          "name": "stdout",
          "text": [
            "Defaulting to user installation because normal site-packages is not writeable\n",
            "Requirement already satisfied: rply in /home/digopp/.local/lib/python3.8/site-packages (0.7.8)\n",
            "Requirement already satisfied: appdirs in /home/digopp/.local/lib/python3.8/site-packages (from rply) (1.4.4)\n"
          ]
        }
      ]
    },
    {
      "cell_type": "markdown",
      "metadata": {
        "id": "SVgzraB4zx06"
      },
      "source": [
        "**GRAMÁTICA MINI-PASCAL**"
      ]
    },
    {
      "cell_type": "markdown",
      "metadata": {
        "id": "ne3ulspL0ukq"
      },
      "source": [
        "Abaixo temos a gramática da linguagem MINI-PASCAL:\n",
        "\n",
        "<i>\n",
        "program ::= 'program' identifier;block\n",
        "\n",
        "block ::= variable_declaration_part subroutine_declaration_part statement_part\n",
        "\n",
        "variable_declaration_part ::= 'var' empty | variable_declaration; \\{variable_declaration;\\}\n",
        "\n",
        "type ::= simple_type | array_type\n",
        "\n",
        "array_type ::= 'array' '\\['index_range'\\]' 'of' simple_type\n",
        "\n",
        "index_range ::= integer_const..integer_const\n",
        "\n",
        "simple_type ::= char | integer | boolean\n",
        "\n",
        "type_identifier ::= identifier\n",
        "\n",
        "subroutine_declaration_part ::= prodecure_declaration | function_declaration\n",
        "\n",
        "procedure_declaration ::= 'procedure' identifier formal_parameters ';' block\n",
        "\n",
        "function declaration ::= 'function' identifier formal_parameters ':' type ';' block\n",
        "\n",
        "formal_parameters ::= '('param_section')'\n",
        "\n",
        "param_section ::= variable_declaration {';' variable_declaration ';'} \n",
        "\n",
        "statement_part ::= compound_statement\n",
        "\n",
        "compound_statement ::= 'begin' statement {';'statement} 'end'\n",
        "\n",
        "statement ::= simple_statement | structured_statement\n",
        "\n",
        "simple_statement ::= assignment_statement | function_procedure_statement | read_statement | write_statement\n",
        "\n",
        "assignment_statement ::= variable ::= expression\n",
        "\n",
        "function_procedure_statement ::= function_procedure_identifier | variable ::= \n",
        "</i> "
      ]
    },
    {
      "cell_type": "markdown",
      "metadata": {
        "id": "77WN9_bh00GL"
      },
      "source": [
        "**ANALISADOR LÉXICO**"
      ]
    },
    {
      "cell_type": "code",
      "metadata": {
        "id": "pLN1TmLMyDVL"
      },
      "source": [],
      "execution_count": null,
      "outputs": []
    },
    {
      "cell_type": "code",
      "metadata": {
        "id": "EdTEbkMz06zB"
      },
      "source": [],
      "execution_count": null,
      "outputs": []
    },
    {
      "cell_type": "markdown",
      "metadata": {
        "id": "y0eOu93Q0-wB"
      },
      "source": [
        "**ANALISADOR SINTÁTICO**"
      ]
    },
    {
      "cell_type": "code",
      "metadata": {
        "id": "rK8UKNVe0_8A"
      },
      "source": [],
      "execution_count": null,
      "outputs": []
    }
  ]
}
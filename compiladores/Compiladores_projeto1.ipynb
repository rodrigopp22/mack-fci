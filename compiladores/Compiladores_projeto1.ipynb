{
  "nbformat": 4,
  "nbformat_minor": 0,
  "metadata": {
    "colab": {
      "name": "Compiladores-projeto1.ipynb",
      "provenance": []
    },
    "kernelspec": {
      "name": "python382jvsc74a57bd031f2aee4e71d21fbe5cf8b01ff0e069b9275f58929596ceb00d14d90e3e16cd6",
      "display_name": "Python 3.8.2 64-bit"
    },
    "language_info": {
      "name": "python",
      "version": "3.8.2-final"
    },
    "metadata": {
      "interpreter": {
        "hash": "31f2aee4e71d21fbe5cf8b01ff0e069b9275f58929596ceb00d14d90e3e16cd6"
      }
    }
  },
  "cells": [
    {
      "cell_type": "markdown",
      "metadata": {
        "id": "lSbmutC3yDyX"
      },
      "source": [
        "**PROJETO COMPILADORES - MINI PASCAL - FASE I**\n",
        "\n",
        "Discentes:\n",
        "- Daniel Matrone - \n",
        "- Rodrigo Pigatto Pasquale - 41816080"
      ]
    },
    {
      "cell_type": "markdown",
      "metadata": {
        "id": "fSgI27tH0wk3"
      },
      "source": [
        "**INSTALAÇÃO DO RPLY**"
      ]
    },
    {
      "cell_type": "code",
      "metadata": {
        "colab": {
          "base_uri": "https://localhost:8080/"
        },
        "id": "SdFrrjmLx5qu",
        "outputId": "cbdca983-3b97-495c-905d-987d67bb873b"
      },
      "source": [
        "!pip install rply"
      ],
      "execution_count": 2,
      "outputs": [
        {
          "output_type": "stream",
          "name": "stdout",
          "text": [
            "Defaulting to user installation because normal site-packages is not writeable\n",
            "Requirement already satisfied: rply in /home/digopp/.local/lib/python3.8/site-packages (0.7.8)\n",
            "Requirement already satisfied: appdirs in /home/digopp/.local/lib/python3.8/site-packages (from rply) (1.4.4)\n"
          ]
        }
      ]
    },
    {
      "cell_type": "markdown",
      "metadata": {
        "id": "SVgzraB4zx06"
      },
      "source": [
        "**GRAMÁTICA MINI-PASCAL**"
      ]
    },
    {
      "cell_type": "markdown",
      "metadata": {
        "id": "ne3ulspL0ukq"
      },
      "source": [
        "Abaixo temos a gramática da linguagem MINI-PASCAL:\n",
        "\n",
        "<i>\n",
        "program ::= 'program' identifier;block\n",
        "\n",
        "block ::= variable_declaration_part subroutine_declaration_part statement_part\n",
        "\n",
        "variable_declaration_part ::= 'var' empty | variable_declaration; {variable_declaration;}\n",
        "\n",
        "variable_declaration ::= identifier {',' identifier} ':' type\n",
        "\n",
        "type ::= simple_type | array_type\n",
        "\n",
        "array_type ::= 'array' '\\['index_range'\\]' 'of' simple_type\n",
        "\n",
        "index_range ::= integer_const..integer_const\n",
        "\n",
        "simple_type ::= char | integer | boolean\n",
        "\n",
        "type_identifier ::= identifier\n",
        "\n",
        "subroutine_declaration_part ::= procedure_declaration | function_declaration\n",
        "\n",
        "procedure_declaration ::= 'procedure' identifier formal_parameters ';' block\n",
        "\n",
        "function declaration ::= 'function' identifier formal_parameters ':' type ';' block\n",
        "\n",
        "formal_parameters ::= '('param_section')'\n",
        "\n",
        "param_section ::= variable_declaration {';' variable_declaration ';'} \n",
        "\n",
        "statement_part ::= compound_statement\n",
        "\n",
        "compound_statement ::= 'begin' statement {';'statement} 'end'\n",
        "\n",
        "statement ::= simple_statement | structured_statement\n",
        "\n",
        "simple_statement ::= assignment_statement | function_procedure_statement | read_statement | write_statement\n",
        "\n",
        "assignment_statement ::= variable ::= expression\n",
        "\n",
        "function_procedure_statement ::= function_procedure_identifier | variable ::= function_procedure_identifier\n",
        "\n",
        "function_procedure_identifier ::= identifier\n",
        "\n",
        "read_statement ::= 'read' '('variable {',' variable} ')'\n",
        "write_statement ::= 'write' '(' variable {',' variable} ')'\n",
        "\n",
        "structured_statement ::= compound_statement | if_statement | while_statement\n",
        "if_statement ::= 'if' expression 'then' statement | 'if' expression 'then' statement 'else' statement\n",
        "while_statement ::= 'while' expression 'do' statement\n",
        "\n",
        "expression ::= simple_expression | simple_expression relational_operator simple_expression\n",
        "simple_expression ::= sign term { adding_operator term }\n",
        "term ::= factor { multiplying_operator factor}\n",
        "factor ::= variable | constant | '('expression')' | 'not' factor\n",
        "\n",
        "relational_operator ::= '=' | '<>' | '<' | '<=' | '>=' | '>' | 'or' | 'and'\n",
        "sign ::= '+' | '-' | empty\n",
        "adding_operator ::= '+' | '-'\n",
        "multiplying_operator ::= '*' | 'div'\n",
        "\n",
        "variable ::= entire_variable | indexed_variable\n",
        "indexed_variable ::= array_variable '[' expression ']'\n",
        "array_variable ::= entire_variable\n",
        "entire_variable ::= variable_identifier\n",
        "variable_identifier ::= identifier\n",
        "\n",
        "constant ::= integer_const | character_const | constant_identifier\n",
        "constant_identifier ::= identifier\n",
        "identifier ::= letter { letter_or_digit }\n",
        "letter_or_digit ::= letter | digit\n",
        "integer_const ::= digit { digit }\n",
        "character_const ::= `'`letter_or_digit`'` | `\"`letter_or_digit {letter_or_digit}`\"`\n",
        "letter ::= [a-z][A-Z]\n",
        "digit ::= [0-9]\n",
        "special_symbol ::= \n",
        "\n",
        "\n",
        "</i> "
      ]
    },
    {
      "cell_type": "markdown",
      "metadata": {
        "id": "77WN9_bh00GL"
      },
      "source": [
        "**ANALISADOR LÉXICO**"
      ]
    },
    {
      "cell_type": "code",
      "metadata": {
        "id": "pLN1TmLMyDVL"
      },
      "source": [
        "from rply import LexerGenerator\n",
        "\n",
        "lg = LexerGenerator()\n",
        "\n",
        "#program ::= 'program' identifier;block\n",
        "#variable_declaration_part ::= 'var' empty | variable_declaration; \\{variable_declaration;\\}\n",
        "#array_type ::= 'array' '\\['index_range'\\]' 'of' simple_type\n",
        "\n",
        "lg.add('PROGRAM', r'program')\n",
        "lg.add('VAR', r'var')\n",
        "lg.add('COMMA', r'\\,')\n",
        "lg.add('ARRAY', r'array')\n",
        "lg.add('OPEN_BRACKET', r'\\[')\n",
        "lg.add('CLOSE_BRACKET', r'\\]')\n",
        "lg.add('OF', r'of')\n",
        "\n",
        "#index_range ::= integer_const..integer_const\n",
        "lg.add('INDEX_RANGE', r'\\.\\.')\n",
        "\n",
        "#simple_type ::= char | integer | boolean\n",
        "lg.add('INTEGER', r'integer')\n",
        "lg.add('CHARACTER', r'char')\n",
        "lg.add('BOOLEAN', r'boolean')\n",
        "\n",
        "#procedure_declaration ::= 'procedure' identifier formal_parameters ';' block\n",
        "#function declaration ::= 'function' identifier formal_parameters ':' type ';' block\n",
        "lg.add('PROCEDURE', r'procedure')\n",
        "lg.add('FUNCTION', r'function')\n",
        "\n",
        "#formal_parameters ::= '('param_section')'\n",
        "#param_section ::= variable_declaration {';' variable_declaration ';'} \n",
        "lg.add('OPEN_PARENS', r'\\(')\n",
        "lg.add('CLOSE_PARENS', r'\\)')\n",
        "lg.add('SEMICOLON', r'\\;')\n",
        "\n",
        "#compound_statement ::= 'begin' statement {';'statement} 'end'\n",
        "lg.add('BEGIN', r'begin')\n",
        "lg.add('END', r'end')\n",
        "\n",
        "#read_statement ::= 'read' '('variable {',' variable} ')'\n",
        "#write_statement ::= 'write' '(' variable {',' variable} ')'\n",
        "lg.add('READ', r'read')\n",
        "lg.add('WRITE', r'write')\n",
        "\n",
        "#if_statement ::= 'if' expression 'then' statement | 'if' expression 'then' statement 'else' statement\n",
        "lg.add('IF', r'if')\n",
        "lg.add('THEN', r'then')\n",
        "lg.add('ELSE', r'else')\n",
        "\n",
        "#while_statement ::= 'while' expression 'do' statement\n",
        "lg.add('WHILE', r'while')\n",
        "lg.add('DO', r'do')\n",
        "\n",
        "#factor ::= variable | constant | '('expression')' | 'not' factor\n",
        "lg.add('NOT', r'not')\n",
        "\n",
        "#relational_operator ::= '=' | '<>' | '<' | '<=' | '>=' | '>' | 'or' | 'and'\n",
        "lg.add('EQUALS', r'=')\n",
        "lg.add('NOT_EQUAL', r'<>')\n",
        "lg.add('LESSER_THAN', r'\\<')\n",
        "lg.add('LESSER_OR_EQUALS', r'\\<\\=')\n",
        "lg.add('GREATER_THAN', r'\\>')\n",
        "lg.add('GREATER_OR_EQUALS', r'\\>\\=')\n",
        "lg.add('OR', r'or')\n",
        "lg.add('AND', r'and')\n",
        "\n",
        "lg.add(\"ATTRIBUTION\", r':=')\n",
        "lg.add('DOT', r'\\.')\n",
        "lg.add('COLON', r'\\:')\n",
        "\n",
        "#sign ::= '+' | '-' | empty\n",
        "\n",
        "#adding_operator ::= '+' | '-'\n",
        "lg.add('PLUS', r'\\+')\n",
        "lg.add('MINUS', r'-')\n",
        "\n",
        "#multiplying_operator ::= '*' | 'div'\n",
        "lg.add('MUL', r'\\*')\n",
        "lg.add('DIV', r'/')\n",
        "\n",
        "#integer_const ::= digit { digit }\n",
        "lg.add('INT_CONST', r'\\d+')\n",
        "\n",
        "#character_const ::= `'`letter_or_digit`'` | `\"`letter_or_digit {letter_or_digit}`\"`\n",
        "lg.add('CHAR_CONST', r'(\\'[a-zA-Z0-9]\\')|(\\\"[a-zA-Z0-9][a-zA-Z0-9]*\\\")')\n",
        "\n",
        "#identifier ::= letter { letter_or_digit }\n",
        "lg.add('IDENTIFIER', r'[a-zA-z][a-zA-Z0-9]*')\n",
        "\n",
        "lg.ignore('\\s+')\n",
        "lexer = lg.build()"
      ],
      "execution_count": 2,
      "outputs": []
    },
    {
      "cell_type": "code",
      "metadata": {
        "id": "EdTEbkMz06zB"
      },
      "source": [
        "for token in lexer.lex('var numero2, numeroB, soma : integer;begin write(A); read(a); write(Banana); read(\"numeroB\"); soma := (numeroA + numeroB); write(Soma = , soma:5:2 ); end'):\n",
        "  print(token)"
      ],
      "execution_count": 3,
      "outputs": [
        {
          "output_type": "stream",
          "name": "stdout",
          "text": [
            "Token('VAR', 'var')\nToken('IDENTIFIER', 'numero2')\nToken('COMMA', ',')\nToken('IDENTIFIER', 'numeroB')\nToken('COMMA', ',')\nToken('IDENTIFIER', 'soma')\nToken('COLON', ':')\nToken('INTEGER', 'integer')\nToken('SEMICOLON', ';')\nToken('BEGIN', 'begin')\nToken('WRITE', 'write')\nToken('OPEN_PARENS', '(')\nToken('IDENTIFIER', 'A')\nToken('CLOSE_PARENS', ')')\nToken('SEMICOLON', ';')\nToken('READ', 'read')\nToken('OPEN_PARENS', '(')\nToken('IDENTIFIER', 'a')\nToken('CLOSE_PARENS', ')')\nToken('SEMICOLON', ';')\nToken('WRITE', 'write')\nToken('OPEN_PARENS', '(')\nToken('IDENTIFIER', 'Banana')\nToken('CLOSE_PARENS', ')')\nToken('SEMICOLON', ';')\nToken('READ', 'read')\nToken('OPEN_PARENS', '(')\nToken('CHAR_CONST', '\"numeroB\"')\nToken('CLOSE_PARENS', ')')\nToken('SEMICOLON', ';')\nToken('IDENTIFIER', 'soma')\nToken('ATTRIBUTION', ':=')\nToken('OPEN_PARENS', '(')\nToken('IDENTIFIER', 'numeroA')\nToken('PLUS', '+')\nToken('IDENTIFIER', 'numeroB')\nToken('CLOSE_PARENS', ')')\nToken('SEMICOLON', ';')\nToken('WRITE', 'write')\nToken('OPEN_PARENS', '(')\nToken('IDENTIFIER', 'Soma')\nToken('EQUALS', '=')\nToken('COMMA', ',')\nToken('IDENTIFIER', 'soma')\nToken('COLON', ':')\nToken('INT_CONST', '5')\nToken('COLON', ':')\nToken('INT_CONST', '2')\nToken('CLOSE_PARENS', ')')\nToken('SEMICOLON', ';')\nToken('END', 'end')\n"
          ]
        }
      ]
    },
    {
      "cell_type": "markdown",
      "metadata": {
        "id": "y0eOu93Q0-wB"
      },
      "source": [
        "**ANALISADOR SINTÁTICO**"
      ]
    },
    {
      "cell_type": "code",
      "metadata": {
        "id": "rK8UKNVe0_8A"
      },
      "source": [],
      "execution_count": null,
      "outputs": []
    }
  ]
}
<<<<<<< HEAD
{
 "cells": [
  {
   "cell_type": "markdown",
   "metadata": {
    "id": "EwxHf3E81Qyz"
   },
   "source": [
    "**COMPILADORES - AULA 04**\n",
    "\n",
    "**Prof. Luciano Silva**\n",
    "\n",
    "**OBJETIVOS DA AULA:**\n",
    "\n",
    "\n",
    "\n",
    "*   Revisar o processo de análise sintática\n",
    "*   Implementar um analisador sintático para a linguagem TINY-C\n",
    "\n"
   ]
  },
  {
   "cell_type": "code",
   "execution_count": 1,
   "metadata": {
    "colab": {
     "base_uri": "https://localhost:8080/"
    },
    "executionInfo": {
     "elapsed": 5571,
     "status": "ok",
     "timestamp": 1616030953948,
     "user": {
      "displayName": "Rodrigo",
      "photoUrl": "https://lh3.googleusercontent.com/a-/AOh14GgtQ-GVwkUQg_nQQqYuF0lx3NWNGFCy_bT6Zpoa9Po=s64",
      "userId": "04728647152875617038"
     },
     "user_tz": 180
    },
    "id": "CbWUx55j1tLM",
    "outputId": "f2f77ce4-0e3d-421c-dd36-e0b37c04ecc8"
   },
   "outputs": [
    {
     "name": "stdout",
     "output_type": "stream",
     "text": [
      "Defaulting to user installation because normal site-packages is not writeable\n",
      "Requirement already satisfied: rply in /home/digopp/.local/lib/python3.8/site-packages (0.7.8)\n",
      "Requirement already satisfied: appdirs in /home/digopp/.local/lib/python3.8/site-packages (from rply) (1.4.4)\n",
      "Note: you may need to restart the kernel to use updated packages.\n"
     ]
    }
   ],
   "source": [
    "%pip install rply"
   ]
  },
  {
   "cell_type": "markdown",
   "metadata": {
    "id": "WDogT1ytJrEt"
   },
   "source": [
    "**REVISÃO DO PROCESSO DE ANÁLISE SINTÁTICA**\n",
    "\n",
    "Na nossa última aula, implementamos um analisador sintático completo para o comando de atribuição com expressões ariméticas envolvendo números inteiros sem sinal:\n",
    "\n",
    "\\<atrib\\>::= ID \"=\" \\<expression\\>\n",
    "\n",
    "\\<expression\\> ::= NUMBER\n",
    "\n",
    "       | \\<expression\\> \"+\" \\<expression\\>\n",
    " \n",
    "       | \\<expression\\> \"-\" \\<expression\\>\n",
    " \n",
    "       | \\<expression\\> \"*\" \\<expression\\>\n",
    " \n",
    "       | \\<expression\\> \"/\" \\<expression\\>\n",
    " \n",
    "       | \"(\" <expression> \")\""
   ]
  },
  {
   "cell_type": "markdown",
   "metadata": {
    "id": "ACSuZUyEJ2oQ"
   },
   "source": [
    "O primeiro passo foi implementar um analisador léxico para esta gramática, mostrado abaixo:\n"
   ]
  },
  {
   "cell_type": "code",
   "execution_count": 2,
   "metadata": {
    "executionInfo": {
     "elapsed": 5544,
     "status": "ok",
     "timestamp": 1616030953952,
     "user": {
      "displayName": "Rodrigo",
      "photoUrl": "https://lh3.googleusercontent.com/a-/AOh14GgtQ-GVwkUQg_nQQqYuF0lx3NWNGFCy_bT6Zpoa9Po=s64",
      "userId": "04728647152875617038"
     },
     "user_tz": 180
    },
    "id": "AohGQ2yWKDli"
   },
   "outputs": [],
   "source": [
    "from rply import LexerGenerator\n",
    "\n",
    "lg = LexerGenerator()\n",
    "\n",
    "lg.add('ID', r'[a-zA-Z][a-zA-Z0-9]*')\n",
    "lg.add('EQUALS', r'=')\n",
    "lg.add('NUMBER', r'\\d+')\n",
    "lg.add('PLUS', r'\\+')\n",
    "lg.add('MINUS', r'-')\n",
    "lg.add('MUL', r'\\*')\n",
    "lg.add('DIV', r'/')\n",
    "lg.add('OPEN_PARENS', r'\\(')\n",
    "lg.add('CLOSE_PARENS', r'\\)')\n",
    "\n",
    "lg.ignore('\\s+')\n",
    "\n",
    "lexer = lg.build()"
   ]
  },
  {
   "cell_type": "markdown",
   "metadata": {
    "id": "ricXOj1eH7Da"
   },
   "source": [
    "O segundo passo foi implementar as classes em Python para representar os nós da árvore sintática gerada pelo analisador sintático:"
   ]
  },
  {
   "cell_type": "code",
   "execution_count": 3,
   "metadata": {
    "executionInfo": {
     "elapsed": 5539,
     "status": "ok",
     "timestamp": 1616030953957,
     "user": {
      "displayName": "Rodrigo",
      "photoUrl": "https://lh3.googleusercontent.com/a-/AOh14GgtQ-GVwkUQg_nQQqYuF0lx3NWNGFCy_bT6Zpoa9Po=s64",
      "userId": "04728647152875617038"
     },
     "user_tz": 180
    },
    "id": "RLcu5RuHDl6B"
   },
   "outputs": [],
   "source": [
    "from rply.token import BaseBox\n",
    "\n",
    "class Number(BaseBox):\n",
    "    def __init__(self, value):\n",
    "        self.value = value\n",
    "\n",
    "    def eval(self):\n",
    "        return self.value\n",
    "\n",
    "class BinaryOp(BaseBox):\n",
    "    def __init__(self, left, right):\n",
    "        self.left = left\n",
    "        self.right = right\n",
    "\n",
    "class Add(BinaryOp):\n",
    "    def eval(self):\n",
    "        return self.left.eval() + self.right.eval()\n",
    "\n",
    "class Sub(BinaryOp):\n",
    "    def eval(self):\n",
    "        return self.left.eval() - self.right.eval()\n",
    "\n",
    "class Mul(BinaryOp):\n",
    "    def eval(self):\n",
    "        return self.left.eval() * self.right.eval()\n",
    "\n",
    "class Div(BinaryOp):\n",
    "    def eval(self):\n",
    "        return self.left.eval() / self.right.eval()\n",
    "\n",
    "class Attrib(BaseBox):\n",
    "    def __init__(self, id, expression):\n",
    "        self.id = id\n",
    "        self.expression = expression"
   ]
  },
  {
   "cell_type": "markdown",
   "metadata": {
    "id": "3OEfEiOCIVxX"
   },
   "source": [
    "Finalmente, foi implementado o analisado sintático para o comando de atribuição:"
   ]
  },
  {
   "cell_type": "code",
   "execution_count": 4,
   "metadata": {
    "executionInfo": {
     "elapsed": 5538,
     "status": "ok",
     "timestamp": 1616030953962,
     "user": {
      "displayName": "Rodrigo",
      "photoUrl": "https://lh3.googleusercontent.com/a-/AOh14GgtQ-GVwkUQg_nQQqYuF0lx3NWNGFCy_bT6Zpoa9Po=s64",
      "userId": "04728647152875617038"
     },
     "user_tz": 180
    },
    "id": "2MB_wWwWEGcX"
   },
   "outputs": [],
   "source": [
    "from rply import ParserGenerator\n",
    "\n",
    "pg = ParserGenerator(\n",
    "    # A list of all token names, accepted by the lexer.\n",
    "    ['NUMBER', 'OPEN_PARENS', 'CLOSE_PARENS',\n",
    "     'PLUS', 'MINUS', 'MUL', 'DIV','ID','EQUALS'\n",
    "    ],\n",
    "    # A list of precedence rules with ascending precedence, to\n",
    "    # disambiguate ambiguous production rules.\n",
    "    precedence=[\n",
    "        ('left', ['PLUS', 'MINUS']),\n",
    "        ('left', ['MUL', 'DIV'])    \n",
    "    ]\n",
    ")\n",
    "\n",
    "# regra <atrib>::= ID \"=\" <expression>\n",
    "\n",
    "@pg.production('atrib : ID EQUALS expression')\n",
    "def attrib(p):\n",
    "  return Attrib(p[0].getstr(),p[2])\n",
    "\n",
    "@pg.production('expression : NUMBER')\n",
    "def expression_number(p):\n",
    "    # p is a list of the pieces matched by the right hand side of the\n",
    "    # rule\n",
    "    return Number(int(p[0].getstr()))\n",
    "\n",
    "@pg.production('expression : OPEN_PARENS expression CLOSE_PARENS')\n",
    "def expression_parens(p):\n",
    "    return p[1]\n",
    "\n",
    "@pg.production('expression : expression PLUS expression')\n",
    "@pg.production('expression : expression MINUS expression')\n",
    "@pg.production('expression : expression MUL expression')\n",
    "@pg.production('expression : expression DIV expression')\n",
    "def expression_binop(p):\n",
    "    left = p[0]\n",
    "    right = p[2]\n",
    "    if p[1].gettokentype() == 'PLUS':\n",
    "        return Add(left, right)\n",
    "    elif p[1].gettokentype() == 'MINUS':\n",
    "        return Sub(left, right)\n",
    "    elif p[1].gettokentype() == 'MUL':\n",
    "        return Mul(left, right)\n",
    "    elif p[1].gettokentype() == 'DIV':\n",
    "        return Div(left, right)\n",
    "    else:\n",
    "        raise AssertionError('Oops, this should not be possible!')\n",
    "\n",
    "parser = pg.build()"
   ]
  },
  {
   "cell_type": "markdown",
   "metadata": {
    "id": "XaWSNLQeJG8F"
   },
   "source": [
    "Realizamos um teste com um comando de atribuição:"
   ]
  },
  {
   "cell_type": "code",
   "execution_count": 5,
   "metadata": {
    "colab": {
     "base_uri": "https://localhost:8080/"
    },
    "executionInfo": {
     "elapsed": 5509,
     "status": "ok",
     "timestamp": 1616030953964,
     "user": {
      "displayName": "Rodrigo",
      "photoUrl": "https://lh3.googleusercontent.com/a-/AOh14GgtQ-GVwkUQg_nQQqYuF0lx3NWNGFCy_bT6Zpoa9Po=s64",
      "userId": "04728647152875617038"
     },
     "user_tz": 180
    },
    "id": "f9H91s7fFWdB",
    "outputId": "27850e39-112f-4423-abdb-43c834b859ad"
   },
   "outputs": [
    {
     "name": "stdout",
     "output_type": "stream",
     "text": [
      "<__main__.Attrib object at 0x7f6848bcb990>\n",
      "x\n",
      "7\n"
     ]
    }
   ],
   "source": [
    "arvore=parser.parse(lexer.lex('x=1+2*3'))\n",
    "print(arvore)\n",
    "print(arvore.id)\n",
    "print(arvore.expression.eval())"
   ]
  },
  {
   "cell_type": "markdown",
   "metadata": {
    "id": "f92WP_ZgMEpq"
   },
   "source": [
    "**EXERCÍCIO**\n",
    "\n",
    "*Implementar e testar um analisador sintático para a gramática da linguagem TINY-C. Todos os nós da árvore sintática devem implementar o método print que, quando invocado, deve mostrar todo o conteúdo armazenado nos seus atributos.*\n",
    "\n",
    "\n",
    "\n",
    "\n",
    "program ::= function (function)*\n",
    "\n",
    "function ::= type_specifier id ‘(‘ param_decl_list ‘)’ compound_stmt\n",
    "\n",
    "type_specifier ::= int | char\n",
    "\n",
    "param_decl_list ::= parameter_decl (‘,’ parameter_decl )*\n",
    "\n",
    "param_decl ::= type_specifier id\n",
    "\n",
    "compound_stmt ::= ‘{‘ (var_decl stmt)? ‘}’\n",
    "\n",
    "var_decl ::= type_specifier var_decl_list ‘;’\n",
    "\n",
    "var_decl_list ::= variable_id ( ‘,’ variable_id)*\n",
    "\n",
    "variable_id ::= id ( ‘=’ expr )? | id '[' num ']'\n",
    "\n",
    "stmt ::= compound_stmt | cond_stmt | while_stmt | break ‘;’ | continue ‘;’ | return expr ‘;’ | readint ‘(‘ id ‘)’ ‘;’ | writeint ‘(‘ expr ‘)’ ‘;’\n",
    "\n",
    "cond_stmt ::= if ‘(‘ expr ‘)’ stmt (else stmt)?\n",
    "\n",
    "while_stmt ::= while ‘(‘ expr ‘)’ stmt\n",
    "\n",
    "expr ::= id ‘=’ expr | condition\n",
    "\n",
    "condition ::= disjunction | disjunction ‘?’ expr ‘:’ condition\n",
    "\n",
    "disjunction ::= conjunction | disjunction ‘||’ conjunction\n",
    "\n",
    "conjunction ::= comparison | conjunction ‘&&’ comparison\n",
    "\n",
    "comparison ::= relation | relation ‘==’ relation\n",
    "\n",
    "relation ::= sum | sum (‘<’ | ‘>’) sum\n",
    "\n",
    "sum ::= sum ‘+’ term | sum ‘-’ term | term\n",
    "\n",
    "term ::= term ‘*’ factor | term ‘/’ factor | term ‘%’ factor | factor\n",
    "\n",
    "factor ::= ‘!’ factor | ‘-’ factor | primary\n",
    "\n",
    "primary ::= num | charconst | id | ‘(‘ expr ‘)’ "
   ]
  },
  {
   "cell_type": "markdown",
   "metadata": {
    "id": "KBveMsvXODTx"
   },
   "source": [
    "A implementação do analisador léxico está disponível abaixo:"
   ]
  },
  {
   "cell_type": "code",
   "execution_count": null,
   "metadata": {
    "id": "pbxTHyNxOqU1"
   },
   "outputs": [],
   "source": [
    "from rply import LexerGenerator\n",
    "\n",
    "lg = LexerGenerator()\n",
    "\n",
    "lg.add('INT', r'int')\n",
    "lg.add('CHAR', r'char')\n",
    "lg.add('BREAK', r'break')\n",
    "lg.add('CONTINUE', r'continue')\n",
    "lg.add('RETURN', r'return')\n",
    "lg.add('READINT', r'readint')\n",
    "lg.add('WRITEINT', r'writeint')\n",
    "lg.add('IF', r'if')\n",
    "lg.add('WHILE', r'while')\n",
    "lg.add('ID', r'[a-zA-Z][a-zA-Z0-9]*')\n",
    "lg.add('OPEN_PAR', r'\\(')\n",
    "lg.add('CLOSE_PAR', r'\\)')\n",
    "lg.add('OPEN_COL', r'\\[')\n",
    "lg.add('CLOSE_COL', r'\\]')\n",
    "lg.add('VIRG', r'\\,')\n",
    "lg.add('OPEN_CH', r'\\{')\n",
    "lg.add('CLOSE_CH', r'\\}')\n",
    "lg.add('PVIRG', r'\\;')\n",
    "lg.add('COMPEQUALS', r'==')\n",
    "lg.add('COMPMAIOR', r'\\>')\n",
    "lg.add('COMPMENOR', r'\\<')\n",
    "lg.add('EQUALS', r'=')\n",
    "lg.add('INTERROG', r'\\?')\n",
    "lg.add('DOISP', r'\\:')\n",
    "lg.add('DISJ', r'\\|\\|')\n",
    "lg.add('CONJ', r'&&')\n",
    "lg.add('NOT', r'\\!')\n",
    "lg.add('NUMBER', r'\\d+')\n",
    "lg.add('CHARCONST', r'\\'\\S\\'')\n",
    "lg.add('PLUS', r'\\+')\n",
    "lg.add('MINUS', r'-')\n",
    "lg.add('MUL', r'\\*')\n",
    "lg.add('DIV', r'/')\n",
    "lg.add('MOD', r'\\%')\n",
    "\n",
    "lg.ignore('\\s+')\n",
    "\n",
    "lexer = lg.build()"
   ]
  },
  {
   "cell_type": "code",
   "execution_count": 4,
   "metadata": {
    "id": "03DUDIlxPOid"
   },
   "outputs": [],
   "source": [
    "#implemente suas classes dos nós da árvore sintática aqui\n",
    "class Program(BaseBox):\n",
    "    def __init__(self, function, functions):\n",
    "        self.function = function\n",
    "        self.functions = functions\n",
    "      \n",
    "    def print(self):\n",
    "        self.function.print()\n",
    "        for f in self.functions:\n",
    "          f.print()\n",
    "\n",
    "class Function(BaseBox):\n",
    "    def __init__(self, id, dtype, param, body):\n",
    "        self.id = id\n",
    "        self.dtype = dtype\n",
    "        self.param = param\n",
    "        self.body = body\n",
    "    \n",
    "    def print(self):\n",
    "      self.id.print()\n",
    "      self.dtype.print()\n",
    "      self.param.print()\n",
    "      self.body.print()\n",
    "        \n",
    "#param_decl_list ::= parameter_decl (‘,’ parameter_decl )*\n",
    "class Param_declaration(BaseBox):\n",
    "      def __init__(self, dtype, id):\n",
    "        self.id = id\n",
    "        self.dtype = dtype\n",
    "      \n",
    "      def print(self):\n",
    "        self.dtype.print()\n",
    "        self.id.print()\n",
    "\n",
    "class Param_declaration_list(BaseBox):\n",
    "    def __init__(self, parameter_decl, parameter_decl_list):\n",
    "        self.parameter_decl_list = parameter_decl_list\n",
    "        self.parameter_decl = parameter_decl\n",
    "      \n",
    "    def print(self):\n",
    "        self.parameter_decl.print()\n",
    "        for p in parameter_decl_list:\n",
    "            p.id.print()\n",
    "            p.dtype.print()\n",
    "\n",
    "class Var_decl(BaseBox):\n",
    "    def __init__(self, name):\n",
    "        self.name = str(name)\n",
    "        self.value = None\n",
    "        \n",
    "    def print(self):\n",
    "        self.name.print()\n",
    "        self.value.print()\n",
    "        \n",
    "        \n",
    "class Var_decl_list(BaseBox):\n",
    "    def __init__(self, var_decl_list):\n",
    "        self.var_decl_list = var_decl_list\n",
    "    \n",
    "    def print(self):\n",
    "        for var in self.var_decl_list:\n",
    "            var.name.print()\n",
    "            var.value.print()\n",
    "\n",
    "\n",
    "class Condition(BaseBox):\n",
    "    def __init__(self, condition1, condition2):\n",
    "        self.condition1 = condition1\n",
    "        self.condition2 = condition2\n",
    "    \n",
    "    def print(self):\n",
    "        self.condition1.print()\n",
    "        self.condition2.print()\n",
    "\n",
    "class While_loop(BaseBox):\n",
    "    def __init__(self, condition, conditions):\n",
    "        self.condition = condition\n",
    "        self.conditions = conditions\n",
    "        \n",
    "    def print(self):\n",
    "        self.condition.print()\n",
    "        for c in conditions:\n",
    "            c.print()\n",
    "\n",
    "class Readint(BaseBox):\n",
    "    def __init__(self, id, value):\n",
    "        self.id = id\n",
    "        self.value = value\n",
    "        \n",
    "    def print(self):\n",
    "        self.id.print()\n",
    "        self.value.print()\n",
    "        \n",
    "class Writeint(BaseBox):\n",
    "    def __init__(self, id, new_value):\n",
    "        self.id = id\n",
    "        self.new_value = new_value\n",
    "    \n",
    "    def print(self):\n",
    "        self.id.print()\n",
    "        self.new_value.print()\n",
    "        \n",
    "\n",
    "class Mod(BinaryOp):\n",
    "    def eval(self):\n",
    "      return self.left.eval()%self.right.eval()"
   ]
  },
  {
   "cell_type": "code",
   "execution_count": null,
   "metadata": {
    "id": "V9UFtAf5PXh-"
   },
   "outputs": [],
   "source": [
    "#implemente seu analisador sintático aqui\n",
    "from rply import ParserGenerator\n",
    "\n",
    "pg = ParserGenerator(\n",
    "    # A list of all token names, accepted by the lexer.\n",
    "    ['NUMBER', 'PLUS', 'MINUS', 'MUL', 'DIV','ID','EQUALS'\n",
    "     'MOD', 'INT', 'CHAR', 'BREAK', 'CONTINUE', 'RETURN',\n",
    "     'READINT', 'WRITEINT', 'IF', 'WHILE', 'OPEN_PAR', 'CLOSE_PAR',\n",
    "     'OPEN_COL', 'CLOSE_COL', 'VIRG', 'OPEN_CH', 'CLOSE_CH', 'PVIRG',\n",
    "     'COMPEQUALS','COMPMAIOR','COMPMENOR', 'EQUALS','INTERROG', 'DOISP',\n",
    "     'DISJ', 'CONJ', 'NOT',  'CHARCONST'\n",
    "    ],\n",
    "    # A list of precedence rules with ascending precedence, to\n",
    "    # disambiguate ambiguous production rules.\n",
    "    precedence=[\n",
    "        ('left', ['FUNCTION',]),\n",
    "        ('left', ['=']), \n",
    "        ('left', ['OPEN_COL','CLOSE_COL']), \n",
    "        ('left', ['IF', 'VIRG', 'WRITEINT', 'READINT','WHILE',]), \n",
    "        ('left', ['DISJ', 'CONJ',]), \n",
    "        ('left', ['NOT',]), \n",
    "        ('left', ['COMPEQUALS', 'COMPMAIOR', 'COMPMENOR']), \n",
    "        ('left', ['PLUS', 'MINUS',]), \n",
    "        ('left', ['MUL', 'DIV','MOD']),      \n",
    "    ]\n",
    ")\n",
    "\n",
    "# regra <atrib>::= ID \"=\" <expression>\n",
    "\n",
    "@pg.production('atrib : ID EQUALS expression')\n",
    "def attrib(p):\n",
    "  return Attrib(p[0].getstr(),p[2])\n",
    "\n",
    "@pg.production('expression : NUMBER')\n",
    "def expression_number(p):\n",
    "    # p is a list of the pieces matched by the right hand side of the\n",
    "    # rule\n",
    "    return Number(int(p[0].getstr()))\n",
    "\n",
    "@pg.production('expression : OPEN_PARENS expression CLOSE_PARENS')\n",
    "def expression_parens(p):\n",
    "    return p[1]\n",
    "\n",
    "@pg.production('expression : expression PLUS expression')\n",
    "@pg.production('expression : expression MINUS expression')\n",
    "@pg.production('expression : expression MUL expression')\n",
    "@pg.production('expression : expression DIV expression')\n",
    "@pg.production('expression : expression MOD expression')\n",
    "\n",
    "def expression_binop(p):\n",
    "    left = p[0]\n",
    "    right = p[2]\n",
    "    if p[1].gettokentype() == 'PLUS':\n",
    "        return Add(left, right)\n",
    "    elif p[1].gettokentype() == 'MINUS':\n",
    "        return Sub(left, right)\n",
    "    elif p[1].gettokentype() == 'MUL':\n",
    "        return Mul(left, right)\n",
    "    elif p[1].gettokentype() == 'DIV':\n",
    "        return Div(left, right)\n",
    "    elif p[1]\n",
    "    else:\n",
    "        raise AssertionError('Oops, this should not be possible!')\n",
    "\n",
    "parser = pg.build()"
   ]
  },
  {
   "cell_type": "code",
   "execution_count": null,
   "metadata": {
    "id": "rY5IWrHxPdxQ"
   },
   "outputs": [],
   "source": [
    "#teste seu analisador com um pequeno programa em TINY-C."
   ]
  },
  {
   "cell_type": "markdown",
   "metadata": {
    "id": "2jqRKa4zKMge"
   },
   "source": [
    "**ATIVIDADE EAD**\n",
    "\n",
    "Finalizar a implementação do analisador sintático para TINY-C.\n",
    "\n"
   ]
  }
 ],
 "metadata": {
  "colab": {
   "collapsed_sections": [],
   "name": "Cópia de COMPILADORES-AULA 4.ipynb",
   "provenance": [
    {
     "file_id": "https://github.com/lucianosilva-github/compiladores/blob/main/COMPILADORES_AULA_4.ipynb",
     "timestamp": 1615589385478
    }
   ]
  },
  "kernelspec": {
   "display_name": "Python 3",
   "language": "python",
   "name": "python3"
  },
  "language_info": {
   "codemirror_mode": {
    "name": "ipython",
    "version": 3
   },
   "file_extension": ".py",
   "mimetype": "text/x-python",
   "name": "python",
   "nbconvert_exporter": "python",
   "pygments_lexer": "ipython3",
   "version": "3.8.5"
  }
 },
 "nbformat": 4,
 "nbformat_minor": 1
}
=======
{"nbformat":4,"nbformat_minor":0,"metadata":{"colab":{"name":"Cópia de COMPILADORES-AULA 4.ipynb","provenance":[{"file_id":"https://github.com/lucianosilva-github/compiladores/blob/main/COMPILADORES_AULA_4.ipynb","timestamp":1615589385478}],"collapsed_sections":[]},"kernelspec":{"name":"python3","display_name":"Python 3"}},"cells":[{"cell_type":"markdown","metadata":{"id":"EwxHf3E81Qyz"},"source":["**COMPILADORES - AULA 04**\n","\n","**Prof. Luciano Silva**\n","\n","**OBJETIVOS DA AULA:**\n","\n","\n","\n","*   Revisar o processo de análise sintática\n","*   Implementar um analisador sintático para a linguagem TINY-C\n","\n"]},{"cell_type":"code","metadata":{"id":"CbWUx55j1tLM","colab":{"base_uri":"https://localhost:8080/"},"executionInfo":{"status":"ok","timestamp":1616030953948,"user_tz":180,"elapsed":5571,"user":{"displayName":"Rodrigo","photoUrl":"https://lh3.googleusercontent.com/a-/AOh14GgtQ-GVwkUQg_nQQqYuF0lx3NWNGFCy_bT6Zpoa9Po=s64","userId":"04728647152875617038"}},"outputId":"f2f77ce4-0e3d-421c-dd36-e0b37c04ecc8"},"source":["!pip install rply"],"execution_count":1,"outputs":[{"output_type":"stream","text":["Collecting rply\n","  Downloading https://files.pythonhosted.org/packages/c0/7c/f66be9e75485ae6901ae77d8bdbc3c0e99ca748ab927b3e18205759bde09/rply-0.7.8-py2.py3-none-any.whl\n","Requirement already satisfied: appdirs in /usr/local/lib/python3.7/dist-packages (from rply) (1.4.4)\n","Installing collected packages: rply\n","Successfully installed rply-0.7.8\n"],"name":"stdout"}]},{"cell_type":"markdown","metadata":{"id":"WDogT1ytJrEt"},"source":["**REVISÃO DO PROCESSO DE ANÁLISE SINTÁTICA**\n","\n","Na nossa última aula, implementamos um analisador sintático completo para o comando de atribuição com expressões ariméticas envolvendo números inteiros sem sinal:\n","\n","\\<atrib\\>::= ID \"=\" \\<expression\\>\n","\n","\\<expression\\> ::= NUMBER\n","\n","       | \\<expression\\> \"+\" \\<expression\\>\n"," \n","       | \\<expression\\> \"-\" \\<expression\\>\n"," \n","       | \\<expression\\> \"*\" \\<expression\\>\n"," \n","       | \\<expression\\> \"/\" \\<expression\\>\n"," \n","       | \"(\" <expression> \")\""]},{"cell_type":"markdown","metadata":{"id":"ACSuZUyEJ2oQ"},"source":["O primeiro passo foi implementar um analisador léxico para esta gramática, mostrado abaixo:\n"]},{"cell_type":"code","metadata":{"id":"AohGQ2yWKDli","executionInfo":{"status":"ok","timestamp":1616030953952,"user_tz":180,"elapsed":5544,"user":{"displayName":"Rodrigo","photoUrl":"https://lh3.googleusercontent.com/a-/AOh14GgtQ-GVwkUQg_nQQqYuF0lx3NWNGFCy_bT6Zpoa9Po=s64","userId":"04728647152875617038"}}},"source":["from rply import LexerGenerator\n","\n","lg = LexerGenerator()\n","\n","lg.add('ID', r'[a-zA-Z][a-zA-Z0-9]*')\n","lg.add('EQUALS', r'=')\n","lg.add('NUMBER', r'\\d+')\n","lg.add('PLUS', r'\\+')\n","lg.add('MINUS', r'-')\n","lg.add('MUL', r'\\*')\n","lg.add('DIV', r'/')\n","lg.add('OPEN_PARENS', r'\\(')\n","lg.add('CLOSE_PARENS', r'\\)')\n","\n","lg.ignore('\\s+')\n","\n","lexer = lg.build()"],"execution_count":2,"outputs":[]},{"cell_type":"markdown","metadata":{"id":"ricXOj1eH7Da"},"source":["O segundo passo foi implementar as classes em Python para representar os nós da árvore sintática gerada pelo analisador sintático:"]},{"cell_type":"code","metadata":{"id":"RLcu5RuHDl6B","executionInfo":{"status":"ok","timestamp":1616030953957,"user_tz":180,"elapsed":5539,"user":{"displayName":"Rodrigo","photoUrl":"https://lh3.googleusercontent.com/a-/AOh14GgtQ-GVwkUQg_nQQqYuF0lx3NWNGFCy_bT6Zpoa9Po=s64","userId":"04728647152875617038"}}},"source":["from rply.token import BaseBox\n","\n","class Number(BaseBox):\n","    def __init__(self, value):\n","        self.value = value\n","\n","    def eval(self):\n","        return self.value\n","\n","class BinaryOp(BaseBox):\n","    def __init__(self, left, right):\n","        self.left = left\n","        self.right = right\n","\n","class Add(BinaryOp):\n","    def eval(self):\n","        return self.left.eval() + self.right.eval()\n","\n","class Sub(BinaryOp):\n","    def eval(self):\n","        return self.left.eval() - self.right.eval()\n","\n","class Mul(BinaryOp):\n","    def eval(self):\n","        return self.left.eval() * self.right.eval()\n","\n","class Div(BinaryOp):\n","    def eval(self):\n","        return self.left.eval() / self.right.eval()\n","\n","class Attrib(BaseBox):\n","    def __init__(self, id, expression):\n","        self.id = id\n","        self.expression = expression"],"execution_count":3,"outputs":[]},{"cell_type":"markdown","metadata":{"id":"3OEfEiOCIVxX"},"source":["Finalmente, foi implementado o analisado sintático para o comando de atribuição:"]},{"cell_type":"code","metadata":{"id":"2MB_wWwWEGcX","executionInfo":{"status":"ok","timestamp":1616030953962,"user_tz":180,"elapsed":5538,"user":{"displayName":"Rodrigo","photoUrl":"https://lh3.googleusercontent.com/a-/AOh14GgtQ-GVwkUQg_nQQqYuF0lx3NWNGFCy_bT6Zpoa9Po=s64","userId":"04728647152875617038"}}},"source":["from rply import ParserGenerator\n","\n","pg = ParserGenerator(\n","    # A list of all token names, accepted by the lexer.\n","    ['NUMBER', 'OPEN_PARENS', 'CLOSE_PARENS',\n","     'PLUS', 'MINUS', 'MUL', 'DIV','ID','EQUALS'\n","    ],\n","    # A list of precedence rules with ascending precedence, to\n","    # disambiguate ambiguous production rules.\n","    precedence=[\n","        ('left', ['PLUS', 'MINUS']),\n","        ('left', ['MUL', 'DIV'])    \n","    ]\n",")\n","\n","# regra <atrib>::= ID \"=\" <expression>\n","\n","@pg.production('atrib : ID EQUALS expression')\n","def attrib(p):\n","  return Attrib(p[0].getstr(),p[2])\n","\n","@pg.production('expression : NUMBER')\n","def expression_number(p):\n","    # p is a list of the pieces matched by the right hand side of the\n","    # rule\n","    return Number(int(p[0].getstr()))\n","\n","@pg.production('expression : OPEN_PARENS expression CLOSE_PARENS')\n","def expression_parens(p):\n","    return p[1]\n","\n","@pg.production('expression : expression PLUS expression')\n","@pg.production('expression : expression MINUS expression')\n","@pg.production('expression : expression MUL expression')\n","@pg.production('expression : expression DIV expression')\n","def expression_binop(p):\n","    left = p[0]\n","    right = p[2]\n","    if p[1].gettokentype() == 'PLUS':\n","        return Add(left, right)\n","    elif p[1].gettokentype() == 'MINUS':\n","        return Sub(left, right)\n","    elif p[1].gettokentype() == 'MUL':\n","        return Mul(left, right)\n","    elif p[1].gettokentype() == 'DIV':\n","        return Div(left, right)\n","    else:\n","        raise AssertionError('Oops, this should not be possible!')\n","\n","parser = pg.build()"],"execution_count":4,"outputs":[]},{"cell_type":"markdown","metadata":{"id":"XaWSNLQeJG8F"},"source":["Realizamos um teste com um comando de atribuição:"]},{"cell_type":"code","metadata":{"id":"f9H91s7fFWdB","colab":{"base_uri":"https://localhost:8080/"},"executionInfo":{"status":"ok","timestamp":1616030953964,"user_tz":180,"elapsed":5509,"user":{"displayName":"Rodrigo","photoUrl":"https://lh3.googleusercontent.com/a-/AOh14GgtQ-GVwkUQg_nQQqYuF0lx3NWNGFCy_bT6Zpoa9Po=s64","userId":"04728647152875617038"}},"outputId":"27850e39-112f-4423-abdb-43c834b859ad"},"source":["arvore=parser.parse(lexer.lex('x=1+2*3'))\n","print(arvore)\n","print(arvore.id)\n","print(arvore.expression.eval())"],"execution_count":5,"outputs":[{"output_type":"stream","text":["<__main__.Attrib object at 0x7f6848bcb990>\n","x\n","7\n"],"name":"stdout"}]},{"cell_type":"markdown","metadata":{"id":"f92WP_ZgMEpq"},"source":["**EXERCÍCIO**\n","\n","*Implementar e testar um analisador sintático para a gramática da linguagem TINY-C. Todos os nós da árvore sintática devem implementar o método print que, quando invocado, deve mostrar todo o conteúdo armazenado nos seus atributos.*\n","\n","\n","\n","\n","program ::= function (function)*\n","\n","function ::= type_specifier id ‘(‘ param_decl_list ‘)’ compound_stmt\n","\n","type_specifier ::= int | char\n","\n","param_decl_list ::= parameter_decl (‘,’ parameter_decl )*\n","\n","param_decl ::= type_specifier id\n","\n","compound_stmt ::= ‘{‘ (var_decl stmt)? ‘}’\n","\n","var_decl ::= type_specifier var_decl_list ‘;’\n","\n","var_decl_list ::= variable_id ( ‘,’ variable_id)*\n","\n","variable_id ::= id ( ‘=’ expr )? | id '[' num ']'\n","\n","stmt ::= compound_stmt | cond_stmt | while_stmt | break ‘;’ | continue ‘;’ | return expr ‘;’ | readint ‘(‘ id ‘)’ ‘;’ | writeint ‘(‘ expr ‘)’ ‘;’\n","\n","cond_stmt ::= if ‘(‘ expr ‘)’ stmt (else stmt)?\n","\n","while_stmt ::= while ‘(‘ expr ‘)’ stmt\n","\n","expr ::= id ‘=’ expr | condition\n","\n","condition ::= disjunction | disjunction ‘?’ expr ‘:’ condition\n","\n","disjunction ::= conjunction | disjunction ‘||’ conjunction\n","\n","conjunction ::= comparison | conjunction ‘&&’ comparison\n","\n","comparison ::= relation | relation ‘==’ relation\n","\n","relation ::= sum | sum (‘<’ | ‘>’) sum\n","\n","sum ::= sum ‘+’ term | sum ‘-’ term | term\n","\n","term ::= term ‘*’ factor | term ‘/’ factor | term ‘%’ factor | factor\n","\n","factor ::= ‘!’ factor | ‘-’ factor | primary\n","\n","primary ::= num | charconst | id | ‘(‘ expr ‘)’ "]},{"cell_type":"markdown","metadata":{"id":"KBveMsvXODTx"},"source":["A implementação do analisador léxico está disponível abaixo:"]},{"cell_type":"code","metadata":{"id":"pbxTHyNxOqU1"},"source":["from rply import LexerGenerator\n","\n","lg = LexerGenerator()\n","\n","lg.add('INT', r'int')\n","lg.add('CHAR', r'char')\n","lg.add('BREAK', r'break')\n","lg.add('CONTINUE', r'continue')\n","lg.add('RETURN', r'return')\n","lg.add('READINT', r'readint')\n","lg.add('WRITEINT', r'writeint')\n","lg.add('IF', r'if')\n","lg.add('WHILE', r'while')\n","lg.add('ID', r'[a-zA-Z][a-zA-Z0-9]*')\n","lg.add('OPEN_PAR', r'\\(')\n","lg.add('CLOSE_PAR', r'\\)')\n","lg.add('OPEN_COL', r'\\[')\n","lg.add('CLOSE_COL', r'\\]')\n","lg.add('VIRG', r'\\,')\n","lg.add('OPEN_CH', r'\\{')\n","lg.add('CLOSE_CH', r'\\}')\n","lg.add('PVIRG', r'\\;')\n","lg.add('COMPEQUALS', r'==')\n","lg.add('COMPMAIOR', r'\\>')\n","lg.add('COMPMENOR', r'\\<')\n","lg.add('EQUALS', r'=')\n","lg.add('INTERROG', r'\\?')\n","lg.add('DOISP', r'\\:')\n","lg.add('DISJ', r'\\|\\|')\n","lg.add('CONJ', r'&&')\n","lg.add('NOT', r'\\!')\n","lg.add('NUMBER', r'\\d+')\n","lg.add('CHARCONST', r'\\'\\S\\'')\n","lg.add('PLUS', r'\\+')\n","lg.add('MINUS', r'-')\n","lg.add('MUL', r'\\*')\n","lg.add('DIV', r'/')\n","lg.add('MOD', r'\\%')\n","\n","lg.ignore('\\s+')\n","\n","lexer = lg.build()"],"execution_count":null,"outputs":[]},{"cell_type":"code","metadata":{"id":"03DUDIlxPOid"},"source":["#implemente suas classes dos nós da árvore sintática aqui\r\n","class Program(BaseBox):\r\n","    def __init__(self, function, functions):\r\n","        self.function = function\r\n","        self.functions = functions\r\n","      \r\n","    def print(self):\r\n","        self.function.print()\r\n","        for f in self.functions:\r\n","          f.print()\r\n","\r\n","\r\n","class Function(BaseBox):\r\n","    def __init__(self, id, dtype, param, body):\r\n","        self.id = id\r\n","        self.dtype = dtype\r\n","        self.param = param\r\n","        self.body = body\r\n","    \r\n","    def print(self):\r\n","      self.id.print()\r\n","      self.dtype.print()\r\n","      self.param.print()\r\n","      self.body.print()\r\n","\r\n","#param_decl_list ::= parameter_decl (‘,’ parameter_decl )*\r\n","class Param_declaration(BaseBox):\r\n","      def __init__(self, parameter_decl, parameter_decl_list):\r\n","        self.parameter_decl = parameter_decl\r\n","        self.parameter_decl_list = parameter_decl_list\r\n","      \r\n","      def print(self):\r\n","        self.parameter_decl.print()\r\n","        for p in parameter_decl_list:\r\n","          p.print()\r\n","\r\n","\r\n","\r\n","class Condition(BaseBox):\r\n","    def __init__()\r\n","      pass\r\n","\r\n","class \r\n","\r\n","class Mod(BinaryOp):\r\n","    def eval(self):\r\n","      return self.left.eval()%self.right.eval()"],"execution_count":null,"outputs":[]},{"cell_type":"code","metadata":{"id":"V9UFtAf5PXh-"},"source":["#implemente seu analisador sintático aqui\r\n","from rply import ParserGenerator\r\n","\r\n","pg = ParserGenerator(\r\n","    # A list of all token names, accepted by the lexer.\r\n","    ['NUMBER', 'OPEN_PARENS', 'CLOSE_PARENS',\r\n","     'PLUS', 'MINUS', 'MUL', 'DIV','ID','EQUALS'\r\n","     'MOD'\r\n","    ],\r\n","    # A list of precedence rules with ascending precedence, to\r\n","    # disambiguate ambiguous production rules.\r\n","    precedence=[\r\n","        ('left', ['PLUS', 'MINUS']),\r\n","        ('left', ['MUL', 'DIV', 'MOD'])    \r\n","    ]\r\n",")\r\n","\r\n","# regra <atrib>::= ID \"=\" <expression>\r\n","\r\n","@pg.production('atrib : ID EQUALS expression')\r\n","def attrib(p):\r\n","  return Attrib(p[0].getstr(),p[2])\r\n","\r\n","@pg.production('expression : NUMBER')\r\n","def expression_number(p):\r\n","    # p is a list of the pieces matched by the right hand side of the\r\n","    # rule\r\n","    return Number(int(p[0].getstr()))\r\n","\r\n","@pg.production('expression : OPEN_PARENS expression CLOSE_PARENS')\r\n","def expression_parens(p):\r\n","    return p[1]\r\n","\r\n","@pg.production('expression : expression PLUS expression')\r\n","@pg.production('expression : expression MINUS expression')\r\n","@pg.production('expression : expression MUL expression')\r\n","@pg.production('expression : expression DIV expression')\r\n","@pg.production('expression : expression MOD expression')\r\n","\r\n","def expression_binop(p):\r\n","    left = p[0]\r\n","    right = p[2]\r\n","    if p[1].gettokentype() == 'PLUS':\r\n","        return Add(left, right)\r\n","    elif p[1].gettokentype() == 'MINUS':\r\n","        return Sub(left, right)\r\n","    elif p[1].gettokentype() == 'MUL':\r\n","        return Mul(left, right)\r\n","    elif p[1].gettokentype() == 'DIV':\r\n","        return Div(left, right)\r\n","    elif p[1]\r\n","    else:\r\n","        raise AssertionError('Oops, this should not be possible!')\r\n","\r\n","parser = pg.build()"],"execution_count":null,"outputs":[]},{"cell_type":"code","metadata":{"id":"rY5IWrHxPdxQ"},"source":["#teste seu analisador com um pequeno programa em TINY-C."],"execution_count":null,"outputs":[]},{"cell_type":"markdown","metadata":{"id":"2jqRKa4zKMge"},"source":["**ATIVIDADE EAD**\n","\n","Finalizar a implementação do analisador sintático para TINY-C.\n","\n"]}]}
>>>>>>> 11f4a9f37266366a059dd3f77b816bab0fa74b53

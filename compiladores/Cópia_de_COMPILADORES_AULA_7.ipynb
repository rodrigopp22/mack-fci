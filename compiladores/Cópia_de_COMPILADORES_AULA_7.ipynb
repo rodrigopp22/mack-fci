{
 "cells": [
  {
   "cell_type": "markdown",
   "metadata": {
    "id": "EwxHf3E81Qyz"
   },
   "source": [
    "**COMPILADORES - AULA 07**\n",
    "\n",
    "**Prof. Luciano Silva**\n",
    "\n",
    "**OBJETIVOS DA AULA:**\n",
    "\n",
    "*   Iniciar o estudo do analisador semântico\n",
    "*   Entender o processo de decoração da árvore sintática\n",
    "*   Aplicar o design pattern Visitor para realizar o processo de decoração da árvore sintática\n"
   ]
  },
  {
   "cell_type": "code",
   "execution_count": 21,
   "metadata": {
    "colab": {
     "base_uri": "https://localhost:8080/"
    },
    "id": "CbWUx55j1tLM",
    "outputId": "0ddf4e51-85d2-47ed-da6e-5be0ca35f1c3"
   },
   "outputs": [
    {
     "name": "stdout",
     "output_type": "stream",
     "text": [
      "Defaulting to user installation because normal site-packages is not writeable\n",
      "Requirement already satisfied: rply in /home/digopp/.local/lib/python3.8/site-packages (0.7.8)\n",
      "Requirement already satisfied: appdirs in /home/digopp/.local/lib/python3.8/site-packages (from rply) (1.4.4)\n",
      "\u001b[33mWARNING: You are using pip version 21.0.1; however, version 21.1.1 is available.\n",
      "You should consider upgrading via the '/usr/bin/python3 -m pip install --upgrade pip' command.\u001b[0m\n"
     ]
    }
   ],
   "source": [
    "!pip install rply"
   ]
  },
  {
   "cell_type": "markdown",
   "metadata": {
    "id": "-c5kPp0Y64TT"
   },
   "source": [
    "**ANALISADOR SEMÂNTICO**\n",
    "\n",
    "O análise semântica é o terceiro passo no processo de compilação e é realizada pelo **analisador semântico**. \n",
    "\n",
    "<img src=\"https://www.researchgate.net/profile/Nuno-Oliveira-15/publication/266497079/figure/fig1/AS:295651775664128@1447500284302/Common-Compiler-Phases.png\"> <img>\n",
    "\n",
    "O analisador semântico realiza diversas operações como, por exemplo, decoração da árvore sintática, verificação de tipos e verificação de chamadas de procedimentos e funções.\n",
    "\n"
   ]
  },
  {
   "cell_type": "markdown",
   "metadata": {
    "id": "IMtgDh_BAjLP"
   },
   "source": [
    "**DECORAÇÃO DA ÁRVORE SINTÁTICA**\n",
    "\n",
    "O objetivo da decoração da árvore sintática consiste em adicionar informações semânticas na árvore sintática (tipo, quantidade de parâmetros, contexto, etc) de forma a facilitar os passos seguintes da análise semântica.\n",
    "\n",
    "Por exemplo, para o processo de verificação de tipos, precisamos ter todos os nós da árvore sintática (relacionados com tipos) com os seu respectivos tipos decorados na árvore. Na chamada de um procedimento e função, precisamos saber se estamos usando o número correto de parâmetros e estamos usando seus tipos corretamente.\n",
    "\n",
    "Abaixo, temos um exemplo de erro semântico:\n",
    "\n",
    "**int x=1,y;**\n",
    "\n",
    "**string nome=\"maria\";**\n",
    "\n",
    "**y=x+nome;**\n",
    "\n",
    "Observe que não há erro sintático. Porém, ao tentarmos somar x(inteiro) com nome(string), teremos uma incompatibilidade de tipos na soma. Para tratar isto, fazemos o processo em três passos:\n",
    "\n",
    "(1) montamos uma **tabela de símbolos** com a declaração das variáveis:\n",
    "\n",
    "<table>\n",
    "<tr> <td> <b>id</b> </td> <td> <b>type</b> </td> </tr>\n",
    "<tr> <td> x </td> <td> int </td> </tr>\n",
    "<tr> <td> y </td> <td> int </td> </tr>\n",
    "<tr> <td> nome </td>  <td> string </td>  </tr> \n",
    "</table>\n",
    "\n",
    "(2) decoramos os nós da árvore relativos à expressão aritmética:\n",
    "\n",
    "**y<font color=\"red\">(int)</font>=x<font color=\"red\">(int)</font>+nome<font color=\"red\">(string)</font>;**\n",
    "\n",
    "(3) no operador de soma, verificamor que os operandos x<font color=\"red\">(int)</font> e nome<font color=\"red\">(string)</font> são incompatíveis.\n",
    "\n",
    "**Cada um destes passos é realizado por um Visitor.**\n"
   ]
  },
  {
   "cell_type": "markdown",
   "metadata": {
    "id": "WDogT1ytJrEt"
   },
   "source": [
    "**EXERCÍCIO**\n",
    "\n",
    "Abaixo, temos uma gramática com expressões aritméticas envolvendo números inteiro (type = int).\n",
    "\n",
    "\\<expression\\> ::= NUMBER\n",
    "\n",
    "       | \\<expression\\> \"+\" \\<expression\\>\n",
    " \n",
    "       | \\<expression\\> \"-\" \\<expression\\>\n",
    " \n",
    "       | \\<expression\\> \"*\" \\<expression\\>\n",
    " \n",
    "       | \\<expression\\> \"/\" \\<expression\\>\n",
    " \n",
    "       | \"(\" <expression> \")\""
   ]
  },
  {
   "cell_type": "markdown",
   "metadata": {
    "id": "ebS9YMF3My8n"
   },
   "source": [
    "Abaixo, temos a implementação do analisador léxico para esta gramática:"
   ]
  },
  {
   "cell_type": "code",
   "execution_count": 22,
   "metadata": {
    "id": "AohGQ2yWKDli"
   },
   "outputs": [],
   "source": [
    "from rply import LexerGenerator\n",
    "\n",
    "lg = LexerGenerator()\n",
    "\n",
    "lg.add('NUMBER', r'\\d+')\n",
    "lg.add('PLUS', r'\\+')\n",
    "lg.add('MINUS', r'-')\n",
    "lg.add('MUL', r'\\*')\n",
    "lg.add('DIV', r'/')\n",
    "lg.add('OPEN_PARENS', r'\\(')\n",
    "lg.add('CLOSE_PARENS', r'\\)')\n",
    "\n",
    "lg.ignore('\\s+')\n",
    "\n",
    "lexer = lg.build()"
   ]
  },
  {
   "cell_type": "markdown",
   "metadata": {
    "id": "TkFwbLH8NCuj"
   },
   "source": [
    "A seguir, temos a implementação das classes dos nós da árvore sintática, já com o método accept para receber os visitors:"
   ]
  },
  {
   "cell_type": "code",
   "execution_count": 23,
   "metadata": {
    "id": "RLcu5RuHDl6B"
   },
   "outputs": [],
   "source": [
    "from rply.token import BaseBox\n",
    "\n",
    "class Expr(BaseBox):\n",
    "    def accept(self, visitor):\n",
    "        method_name = 'visit_{}'.format(self.__class__.__name__.lower())\n",
    "        visit = getattr(visitor, method_name)\n",
    "        return visit(self)\n",
    "\n",
    "class Number(Expr):\n",
    "    def __init__(self, value):\n",
    "        self.value = value\n",
    "\n",
    "\n",
    "class BinaryOp(Expr):\n",
    "    def __init__(self, left, right):\n",
    "        self.left = left\n",
    "        self.right = right\n",
    "\n",
    "class Add(BinaryOp):\n",
    "  pass\n",
    "    \n",
    "\n",
    "class Sub(BinaryOp):\n",
    "  pass\n",
    "   \n",
    "\n",
    "class Mul(BinaryOp):\n",
    "  pass\n",
    "    \n",
    "\n",
    "class Div(BinaryOp):\n",
    "  pass\n",
    "    \n"
   ]
  },
  {
   "cell_type": "markdown",
   "metadata": {
    "id": "H0thJ3zMNmp8"
   },
   "source": [
    "A seguir, temos um visitor que percorre a árvore sintática e resolve a expressão contida nela:"
   ]
  },
  {
   "cell_type": "code",
   "execution_count": 24,
   "metadata": {
    "id": "1wHqpJ_7NaPf"
   },
   "outputs": [],
   "source": [
    "class Visitor(object):\n",
    "    pass\n",
    "\n",
    "\n",
    "class Eval(Visitor):\n",
    "    def visit_number(self, i):\n",
    "        return i.value\n",
    "        \n",
    "    def visit_add(self, a):\n",
    "        return a.left.accept(self) + a.right.accept(self)\n",
    "\n",
    "    def visit_sub(self, a):\n",
    "        return a.left.accept(self) - a.right.accept(self)\n",
    "\n",
    "    def visit_mul(self, a):\n",
    "        return a.left.accept(self) * a.right.accept(self)\n",
    "\n",
    "    def visit_div(self, a):\n",
    "        return a.left.accept(self) / a.right.accept(self)\n"
   ]
  },
  {
   "cell_type": "markdown",
   "metadata": {
    "id": "G_JyO9SgOPbC"
   },
   "source": [
    "Finalmente, temos o analisador sintático:"
   ]
  },
  {
   "cell_type": "code",
   "execution_count": 25,
   "metadata": {
    "id": "2MB_wWwWEGcX"
   },
   "outputs": [],
   "source": [
    "from rply import ParserGenerator\n",
    "\n",
    "pg = ParserGenerator(\n",
    "    # A list of all token names, accepted by the lexer.\n",
    "    ['NUMBER', 'OPEN_PARENS', 'CLOSE_PARENS',\n",
    "     'PLUS', 'MINUS', 'MUL', 'DIV'\n",
    "    ],\n",
    "    # A list of precedence rules with ascending precedence, to\n",
    "    # disambiguate ambiguous production rules.\n",
    "    precedence=[\n",
    "        ('left', ['PLUS', 'MINUS']),\n",
    "        ('left', ['MUL', 'DIV'])    \n",
    "    ]\n",
    ")\n",
    "\n",
    "@pg.production('expression : NUMBER')\n",
    "def expression_number(p):\n",
    "    # p is a list of the pieces matched by the right hand side of the\n",
    "    # rule\n",
    "    return Number(int(p[0].getstr()))\n",
    "\n",
    "@pg.production('expression : OPEN_PARENS expression CLOSE_PARENS')\n",
    "def expression_parens(p):\n",
    "    return p[1]\n",
    "\n",
    "@pg.production('expression : expression PLUS expression')\n",
    "@pg.production('expression : expression MINUS expression')\n",
    "@pg.production('expression : expression MUL expression')\n",
    "@pg.production('expression : expression DIV expression')\n",
    "def expression_binop(p):\n",
    "    left = p[0]\n",
    "    right = p[2]\n",
    "    if p[1].gettokentype() == 'PLUS':\n",
    "        return Add(left, right)\n",
    "    elif p[1].gettokentype() == 'MINUS':\n",
    "        return Sub(left, right)\n",
    "    elif p[1].gettokentype() == 'MUL':\n",
    "        return Mul(left, right)\n",
    "    elif p[1].gettokentype() == 'DIV':\n",
    "        return Div(left, right)\n",
    "    else:\n",
    "        raise AssertionError('Oops, this should not be possible!')\n",
    "\n",
    "parser = pg.build()"
   ]
  },
  {
   "cell_type": "markdown",
   "metadata": {
    "id": "rIlF8kYLOT7R"
   },
   "source": [
    "Para testar o visitor, fazemos a análise sintática, geramos a árvore sintática e, finalmente, passamos o visitor de resolução a ela:"
   ]
  },
  {
   "cell_type": "code",
   "execution_count": 26,
   "metadata": {
    "colab": {
     "base_uri": "https://localhost:8080/"
    },
    "id": "f9H91s7fFWdB",
    "outputId": "9bc110cd-4f47-4dba-d4b0-b11aea574ceb"
   },
   "outputs": [
    {
     "name": "stdout",
     "output_type": "stream",
     "text": [
      "1.4\n"
     ]
    }
   ],
   "source": [
    "arvore=parser.parse(lexer.lex('7/5'))\n",
    "print(arvore.accept(Eval()))"
   ]
  },
  {
   "cell_type": "markdown",
   "metadata": {
    "id": "abAOVnATPDC4"
   },
   "source": [
    "Implemente e teste um visitor para decorar esta árvore sintática, utilizando o seguinte conjunto de regras de tipo:\n",
    "\n",
    "NUMBER --> int\n",
    "\n",
    "int + int --> int\n",
    "\n",
    "int - int --> int\n",
    "\n",
    "int * int --> int\n",
    "\n",
    "int / int --> int\n"
   ]
  },
  {
   "cell_type": "code",
   "execution_count": 32,
   "metadata": {
    "id": "VCdkh8doWFmZ"
   },
   "outputs": [],
   "source": [
    "class Decorator(Visitor):\n",
    "    def visit_number(self, i):\n",
    "        i.decor_type=\"int\"\n",
    "\n",
    "    def visit_add(self, a):\n",
    "        a.left.accept(self)\n",
    "        a.right.accept(self)\n",
    "        if a.left.decor_type==\"int\" and a.right.decor_type==\"int\":\n",
    "          a.decor_type=\"int\"\n",
    "          \n",
    "\n",
    "    def visit_sub(self, a):\n",
    "        a.left.accept(self)\n",
    "        a.right.accept(self)\n",
    "        if a.left.decor_type==\"int\" and a.right.decor_type==\"int\":\n",
    "          a.decor_type=\"int\"\n",
    "\n",
    "    def visit_mul(self, a):\n",
    "        a.left.accept(self)\n",
    "        a.right.accept(self)\n",
    "        if a.left.decor_type==\"int\" and a.right.decor_type==\"int\":\n",
    "          a.decor_type=\"int\"\n",
    "\n",
    "    def visit_div(self, a):\n",
    "        a.left.accept(self)\n",
    "        a.right.accept(self)\n",
    "        if a.left.decor_type==\"int\" and a.right.decor_type==\"int\":\n",
    "          a.decor_type=\"int\""
   ]
  },
  {
   "cell_type": "code",
   "execution_count": 28,
   "metadata": {},
   "outputs": [
    {
     "name": "stdout",
     "output_type": "stream",
     "text": [
      "11\n"
     ]
    }
   ],
   "source": [
    "arvore=parser.parse(lexer.lex('1+2*5'))\n",
    "print(arvore.accept(Eval()))"
   ]
  },
  {
   "cell_type": "markdown",
   "metadata": {
    "id": "cVnS1-NfbcWa"
   },
   "source": [
    "**ATIVIDADE ONLINE**\n",
    "\n",
    "A gramática abaixo aumenta a gramática vista em aula e acrescenta declaração de variáveis com os tipos int e string, assim como um comando de atribuição.\n",
    "\n",
    "(1) implemente um visitor para montar a tabela de símbolos\n",
    "\n",
    "(2) implemente um visitor para decorar a árvore sintática. Suponha que NUMBER tenha o tipo int\n"
   ]
  },
  {
   "cell_type": "markdown",
   "metadata": {
    "id": "V2DJEWc_b2aH"
   },
   "source": [
    "\\<var-decls\\> ::= \\<var-decl\\> \n",
    "\n",
    "       | \\<var-decls\\>\n",
    "\n",
    "\\<var-decl\\> ::= \\<type\\> ID ;\n",
    "\n",
    "\\<type\\> ::= int | string \n",
    "\n",
    "\\<atrib\\> ::= ID = \\<expression\\> ;\n",
    "\n",
    "\\<expression\\> ::= ID\n",
    "\n",
    "      | NUMBER\n",
    "\n",
    "      | \\<expression\\> \"+\" \\<expression\\>\n",
    " \n",
    "      | \\<expression\\> \"-\" \\<expression\\>\n",
    " \n",
    "      | \\<expression\\> \"*\" \\<expression\\>\n",
    " \n",
    "      | \\<expression\\> \"/\" \\<expression\\>\n",
    " \n",
    "      | \"(\" <expression> \")\""
   ]
  },
  {
   "cell_type": "code",
   "execution_count": 29,
   "metadata": {
    "id": "TAoYMBUSd9R4"
   },
   "outputs": [],
   "source": [
    "ST={}\n",
    "\n",
    "class Visitor(object):\n",
    "  pass\n",
    "\n",
    "class SymbolTable(Visitor):\n",
    "    def visit_prog(self, prog):\n",
    "        prog.decls.accept(self)\n",
    "        \n",
    "    def visit_vardecls(self, d):\n",
    "        d.decl.accept(self)\n",
    "        if d.decls!=None:\n",
    "          d.decls.accept(self)\n",
    "\n",
    "    def visit_vardecl(self, d):\n",
    "        ST[d.id]=d.tp"
   ]
  },
  {
   "cell_type": "code",
   "execution_count": 30,
   "metadata": {},
   "outputs": [],
   "source": [
    "class Decorator(Visitor):\n",
    "\n",
    "    def visit_prog(self, i):\n",
    "        i.atrib.accept(self)\n",
    "\n",
    "    def visit_atrib(self, i):\n",
    "        if i.id in ST:\n",
    "          i.id_decor_type=ST[i.id]\n",
    "        else:\n",
    "          raise AssertionError('id not declared')\n",
    "        i.expr.accept(self)\n",
    "        i.expr_decor_type=i.expr.decor_type\n",
    "\n",
    "    def visit_id(self, i):\n",
    "        if i.value in ST:\n",
    "          i.decor_type=ST[i.value]\n",
    "        else:\n",
    "          raise AssertionError('id not declared')\n",
    "\n",
    "\n",
    "    def visit_number(self, i):\n",
    "        i.decor_type=\"int\"\n",
    "        \n",
    "\n",
    "    def visit_add(self, a):\n",
    "        a.left.accept(self)\n",
    "        a.right.accept(self)\n",
    "        if a.left.decor_type==\"int\" and a.right.decor_type==\"int\":\n",
    "          a.decor_type=\"int\"\n",
    "          \n",
    "\n",
    "    def visit_sub(self, a):\n",
    "        a.left.accept(self)\n",
    "        a.right.accept(self)\n",
    "        if a.left.decor_type==\"int\" and a.right.decor_type==\"int\":\n",
    "          a.decor_type=\"int\"\n",
    "\n",
    "    def visit_mul(self, a):\n",
    "        a.left.accept(self)\n",
    "        a.right.accept(self)\n",
    "        if a.left.decor_type==\"int\" and a.right.decor_type==\"int\":\n",
    "          a.decor_type=\"int\"\n",
    "\n",
    "    def visit_div(self, a):\n",
    "        a.left.accept(self)\n",
    "        a.right.accept(self)\n",
    "        if a.left.decor_type==\"int\" and a.right.decor_type==\"int\":\n",
    "          a.decor_type=\"int\""
   ]
  },
  {
   "cell_type": "code",
   "execution_count": 31,
   "metadata": {},
   "outputs": [
    {
     "ename": "AttributeError",
     "evalue": "'SymbolTable' object has no attribute 'visit_add'",
     "output_type": "error",
     "traceback": [
      "\u001b[0;31m---------------------------------------------------------------------------\u001b[0m",
      "\u001b[0;31mAttributeError\u001b[0m                            Traceback (most recent call last)",
      "\u001b[0;32m<ipython-input-31-f76be7544553>\u001b[0m in \u001b[0;36m<module>\u001b[0;34m\u001b[0m\n\u001b[0;32m----> 1\u001b[0;31m \u001b[0marvore\u001b[0m\u001b[0;34m.\u001b[0m\u001b[0maccept\u001b[0m\u001b[0;34m(\u001b[0m\u001b[0mSymbolTable\u001b[0m\u001b[0;34m(\u001b[0m\u001b[0;34m)\u001b[0m\u001b[0;34m)\u001b[0m\u001b[0;34m\u001b[0m\u001b[0;34m\u001b[0m\u001b[0m\n\u001b[0m\u001b[1;32m      2\u001b[0m \u001b[0;32mfor\u001b[0m \u001b[0mk\u001b[0m\u001b[0;34m,\u001b[0m \u001b[0mv\u001b[0m \u001b[0;32min\u001b[0m \u001b[0mST\u001b[0m\u001b[0;34m.\u001b[0m\u001b[0mitems\u001b[0m\u001b[0;34m(\u001b[0m\u001b[0;34m)\u001b[0m\u001b[0;34m:\u001b[0m\u001b[0;34m\u001b[0m\u001b[0;34m\u001b[0m\u001b[0m\n\u001b[1;32m      3\u001b[0m   \u001b[0mprint\u001b[0m\u001b[0;34m(\u001b[0m\u001b[0mk\u001b[0m\u001b[0;34m,\u001b[0m \u001b[0mv\u001b[0m\u001b[0;34m)\u001b[0m\u001b[0;34m\u001b[0m\u001b[0;34m\u001b[0m\u001b[0m\n",
      "\u001b[0;32m<ipython-input-23-9a99a4aee7f6>\u001b[0m in \u001b[0;36maccept\u001b[0;34m(self, visitor)\u001b[0m\n\u001b[1;32m      4\u001b[0m     \u001b[0;32mdef\u001b[0m \u001b[0maccept\u001b[0m\u001b[0;34m(\u001b[0m\u001b[0mself\u001b[0m\u001b[0;34m,\u001b[0m \u001b[0mvisitor\u001b[0m\u001b[0;34m)\u001b[0m\u001b[0;34m:\u001b[0m\u001b[0;34m\u001b[0m\u001b[0;34m\u001b[0m\u001b[0m\n\u001b[1;32m      5\u001b[0m         \u001b[0mmethod_name\u001b[0m \u001b[0;34m=\u001b[0m \u001b[0;34m'visit_{}'\u001b[0m\u001b[0;34m.\u001b[0m\u001b[0mformat\u001b[0m\u001b[0;34m(\u001b[0m\u001b[0mself\u001b[0m\u001b[0;34m.\u001b[0m\u001b[0m__class__\u001b[0m\u001b[0;34m.\u001b[0m\u001b[0m__name__\u001b[0m\u001b[0;34m.\u001b[0m\u001b[0mlower\u001b[0m\u001b[0;34m(\u001b[0m\u001b[0;34m)\u001b[0m\u001b[0;34m)\u001b[0m\u001b[0;34m\u001b[0m\u001b[0;34m\u001b[0m\u001b[0m\n\u001b[0;32m----> 6\u001b[0;31m         \u001b[0mvisit\u001b[0m \u001b[0;34m=\u001b[0m \u001b[0mgetattr\u001b[0m\u001b[0;34m(\u001b[0m\u001b[0mvisitor\u001b[0m\u001b[0;34m,\u001b[0m \u001b[0mmethod_name\u001b[0m\u001b[0;34m)\u001b[0m\u001b[0;34m\u001b[0m\u001b[0;34m\u001b[0m\u001b[0m\n\u001b[0m\u001b[1;32m      7\u001b[0m         \u001b[0;32mreturn\u001b[0m \u001b[0mvisit\u001b[0m\u001b[0;34m(\u001b[0m\u001b[0mself\u001b[0m\u001b[0;34m)\u001b[0m\u001b[0;34m\u001b[0m\u001b[0;34m\u001b[0m\u001b[0m\n\u001b[1;32m      8\u001b[0m \u001b[0;34m\u001b[0m\u001b[0m\n",
      "\u001b[0;31mAttributeError\u001b[0m: 'SymbolTable' object has no attribute 'visit_add'"
     ]
    }
   ],
   "source": [
    "arvore.accept(SymbolTable())\n",
    "for k, v in ST.items():\n",
    "  print(k, v)"
   ]
  }
 ],
 "metadata": {
  "colab": {
   "collapsed_sections": [],
   "name": "Cópia de COMPILADORES-AULA 7.ipynb",
   "provenance": []
  },
  "kernelspec": {
   "display_name": "Python 3",
   "language": "python",
   "name": "python3"
  },
  "language_info": {
   "codemirror_mode": {
    "name": "ipython",
    "version": 3
   },
   "file_extension": ".py",
   "mimetype": "text/x-python",
   "name": "python",
   "nbconvert_exporter": "python",
   "pygments_lexer": "ipython3",
   "version": "3.8.5"
  }
 },
 "nbformat": 4,
 "nbformat_minor": 1
}

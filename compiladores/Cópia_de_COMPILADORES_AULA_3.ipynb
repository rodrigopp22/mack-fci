{
  "nbformat": 4,
  "nbformat_minor": 0,
  "metadata": {
    "colab": {
      "name": "Cópia de COMPILADORES-AULA 3.ipynb",
      "provenance": [],
      "collapsed_sections": []
    },
    "kernelspec": {
      "name": "python3",
      "display_name": "Python 3"
    }
  },
  "cells": [
    {
      "cell_type": "markdown",
      "metadata": {
        "id": "EwxHf3E81Qyz"
      },
      "source": [
        "**COMPILADORES - AULA 03**\n",
        "\n",
        "**Prof. Luciano Silva**\n",
        "\n",
        "**OBJETIVOS DA AULA:**\n",
        "\n",
        "\n",
        "\n",
        "*   Revisar o proceso de análise léxica\n",
        "*   Introduzir o processo de análise sintática\n",
        "*   Implementar analisadores sintáticos usando a ferramenta rply\n",
        "\n"
      ]
    },
    {
      "cell_type": "markdown",
      "metadata": {
        "id": "QGMxqj9y7vWS"
      },
      "source": [
        "**REVISÃO DO PROCESSO DE ANÁLISE LÉXICA**\n",
        "\n",
        "Nas nossas aulas passadas, trabalhamos com a gramática abaixo, que permite reconhecer expressões aritméticas:\n",
        "\n",
        "\\<expression\\> ::= NUMBER\n",
        "\n",
        "               | \\<expression\\> \"+\" \\<expression\\>\n",
        "\n",
        "               | \\<expression\\> \"-\" \\<expression\\>\n",
        "\n",
        "               | \\<expression\\> \"*\" \\<expression\\>\n",
        "\n",
        "               | \\<expression\\> \"/\" \\<expression\\>\n",
        "\n",
        "               | \"(\" <expression> \")\""
      ]
    },
    {
      "cell_type": "markdown",
      "metadata": {
        "id": "vdlT1XbX8PFb"
      },
      "source": [
        "Para usar o módulo rply, primeiro instalamos o pacote no nosso notebook:\n",
        "\n"
      ]
    },
    {
      "cell_type": "code",
      "metadata": {
        "id": "CbWUx55j1tLM",
        "colab": {
          "base_uri": "https://localhost:8080/"
        },
        "outputId": "5a4bad14-8a42-4b7a-c872-391d840b48ae"
      },
      "source": [
        "!pip install rply"
      ],
      "execution_count": null,
      "outputs": [
        {
          "output_type": "stream",
          "text": [
            "Collecting rply\n",
            "  Downloading https://files.pythonhosted.org/packages/c0/7c/f66be9e75485ae6901ae77d8bdbc3c0e99ca748ab927b3e18205759bde09/rply-0.7.8-py2.py3-none-any.whl\n",
            "Requirement already satisfied: appdirs in /usr/local/lib/python3.7/dist-packages (from rply) (1.4.4)\n",
            "Installing collected packages: rply\n",
            "Successfully installed rply-0.7.8\n"
          ],
          "name": "stdout"
        }
      ]
    },
    {
      "cell_type": "markdown",
      "metadata": {
        "id": "Mdp5ClkZ98Tw"
      },
      "source": [
        "O segundo passo foi construir um analisador léxico, que quebrava as nossas expressões em tokens:"
      ]
    },
    {
      "cell_type": "code",
      "metadata": {
        "id": "Rezf3OAt1P7_"
      },
      "source": [
        "from rply import LexerGenerator\n",
        "\n",
        "lg = LexerGenerator()\n",
        "\n",
        "lg.add('NUMBER', r'\\d+')\n",
        "lg.add('PLUS', r'\\+')\n",
        "lg.add('MINUS', r'-')\n",
        "lg.add('MUL', r'\\*')\n",
        "lg.add('DIV', r'/')\n",
        "lg.add('OPEN_PARENS', r'\\(')\n",
        "lg.add('CLOSE_PARENS', r'\\)')\n",
        "\n",
        "lg.ignore('\\s+')\n",
        "\n",
        "lexer = lg.build()"
      ],
      "execution_count": null,
      "outputs": []
    },
    {
      "cell_type": "markdown",
      "metadata": {
        "id": "g0EtKi3iABw7"
      },
      "source": [
        "Para mostrar somente os tokens reconhecidos de uma expressão, podemos utilizar o código abaixo:"
      ]
    },
    {
      "cell_type": "code",
      "metadata": {
        "id": "lY0_GHM9ARAK",
        "colab": {
          "base_uri": "https://localhost:8080/"
        },
        "outputId": "a205db8d-6e4b-478a-9513-413844476e2a"
      },
      "source": [
        "for token in lexer.lex('1+1-1'):\n",
        "  print(token)"
      ],
      "execution_count": null,
      "outputs": [
        {
          "output_type": "stream",
          "text": [
            "Token('NUMBER', '1')\n",
            "Token('PLUS', '+')\n",
            "Token('NUMBER', '1')\n",
            "Token('MINUS', '-')\n",
            "Token('NUMBER', '1')\n"
          ],
          "name": "stdout"
        }
      ]
    },
    {
      "cell_type": "markdown",
      "metadata": {
        "id": "R7eXfPcV-M-R"
      },
      "source": [
        "**PROCESSO DE ANÁLISE SINTÁTICA**\n",
        "\n",
        "A análise sintática é o segundo passo no processo de compilação:\n",
        "\n",
        "<img src=\"https://www.researchgate.net/profile/Nuno-Oliveira-15/publication/266497079/figure/fig1/AS:295651775664128@1447500284302/Common-Compiler-Phases.png\"> <img>\n",
        "\n",
        "Um **analisador sintático** recebe uma sequencia de tokens identificados pelo **analisador léxico** e verifica se estes tokens estão na ordem correta, segundo a **gramática** da linguagem que está sendo compilada.\n",
        "\n",
        "O produto final do processo de análise sintática é uma **árvore n-ária** chamada **árvore de análise sintática**. \n",
        "\n",
        "<img src=\"https://i.stack.imgur.com/woqkC.png\"> <img>\n",
        "\n",
        "Cada nó desta árvore sintática armazena uma parte reconhecida da entrada, de acordo com a gramática fornecida:\n",
        "\n",
        "\\<expression\\> ::= NUMBER\n",
        "\n",
        "               | \\<expression\\> \"+\" \\<expression\\>\n",
        "\n",
        "               | \\<expression\\> \"-\" \\<expression\\>\n",
        "\n",
        "               | \\<expression\\> \"*\" \\<expression\\>\n",
        "\n",
        "               | \\<expression\\> \"/\" \\<expression\\>\n",
        "\n",
        "               | \"(\" <expression> \")\"\n",
        "\n",
        "\n",
        "Normalmente, para cada linha da gramática, criamos uma classe para representar tal linha:\n",
        "\n"
      ]
    },
    {
      "cell_type": "code",
      "metadata": {
        "id": "PbD2HvRH1__m"
      },
      "source": [
        "from rply.token import BaseBox\n",
        "\n",
        "class Number(BaseBox):\n",
        "    def __init__(self, value):\n",
        "        self.value = value\n",
        "\n",
        "    def eval(self):\n",
        "        return self.value\n",
        "\n",
        "class BinaryOp(BaseBox):\n",
        "    def __init__(self, left, right):\n",
        "        self.left = left\n",
        "        self.right = right\n",
        "\n",
        "class Add(BinaryOp):\n",
        "    def eval(self):\n",
        "        return self.left.eval() + self.right.eval()\n",
        "\n",
        "class Sub(BinaryOp):\n",
        "    def eval(self):\n",
        "        return self.left.eval() - self.right.eval()\n",
        "\n",
        "class Mul(BinaryOp):\n",
        "    def eval(self):\n",
        "        return self.left.eval() * self.right.eval()\n",
        "\n",
        "class Div(BinaryOp):\n",
        "    def eval(self):\n",
        "        return self.left.eval() / self.right.eval()"
      ],
      "execution_count": null,
      "outputs": []
    },
    {
      "cell_type": "markdown",
      "metadata": {
        "id": "E-ZtegGt-Rzp"
      },
      "source": [
        "\n",
        "Uma vez que temos como representar cada linha a nossa gramática, dentro de cada nó, observem que temos um método eval. Este método irá calcular o valor representado pot aquele nó. Posteriormente iremos acrescentar novos métodos para, por exemplo, verificar tipos, gerar código, dentre outros.\n",
        "\n",
        "Finalmente, temos a implementação do analisador sintático: \n",
        "\n"
      ]
    },
    {
      "cell_type": "code",
      "metadata": {
        "id": "AZhvrrKL4Wjs"
      },
      "source": [
        "from rply import ParserGenerator\n",
        "\n",
        "pg = ParserGenerator(\n",
        "    # A list of all token names, accepted by the lexer.\n",
        "    ['NUMBER', 'OPEN_PARENS', 'CLOSE_PARENS',\n",
        "     'PLUS', 'MINUS', 'MUL', 'DIV'\n",
        "    ],\n",
        "    # A list of precedence rules with ascending precedence, to\n",
        "    # disambiguate ambiguous production rules.\n",
        "    precedence=[\n",
        "        ('left', ['PLUS', 'MINUS']),\n",
        "        ('left', ['MUL', 'DIV'])\n",
        "    ]\n",
        ")\n",
        "\n",
        "@pg.production('expression : NUMBER')\n",
        "def expression_number(p):\n",
        "    # p is a list of the pieces matched by the right hand side of the\n",
        "    # rule\n",
        "    return Number(int(p[0].getstr()))\n",
        "\n",
        "@pg.production('expression : OPEN_PARENS expression CLOSE_PARENS')\n",
        "def expression_parens(p):\n",
        "    return p[1]\n",
        "\n",
        "@pg.production('expression : expression PLUS expression')\n",
        "@pg.production('expression : expression MINUS expression')\n",
        "@pg.production('expression : expression MUL expression')\n",
        "@pg.production('expression : expression DIV expression')\n",
        "def expression_binop(p):\n",
        "    left = p[0]\n",
        "    right = p[2]\n",
        "    if p[1].gettokentype() == 'PLUS':\n",
        "        return Add(left, right)\n",
        "    elif p[1].gettokentype() == 'MINUS':\n",
        "        return Sub(left, right)\n",
        "    elif p[1].gettokentype() == 'MUL':\n",
        "        return Mul(left, right)\n",
        "    elif p[1].gettokentype() == 'DIV':\n",
        "        return Div(left, right)\n",
        "    else:\n",
        "        raise AssertionError('Oops, this should not be possible!')\n",
        "\n",
        "parser = pg.build()\n"
      ],
      "execution_count": null,
      "outputs": []
    },
    {
      "cell_type": "markdown",
      "metadata": {
        "id": "UrRasgZS-b_1"
      },
      "source": [
        "Como resultado, temos a árvore sintática. Percorrendo esta árvore, podemos calcular o valor da expressão usando o método eval()."
      ]
    },
    {
      "cell_type": "code",
      "metadata": {
        "id": "gAJAmar_6vLd",
        "colab": {
          "base_uri": "https://localhost:8080/"
        },
        "outputId": "d79c2a04-f92b-40cb-c05b-25e2a44ae9a6"
      },
      "source": [
        "parser.parse(lexer.lex('1 + 1')).eval()"
      ],
      "execution_count": null,
      "outputs": [
        {
          "output_type": "execute_result",
          "data": {
            "text/plain": [
              "2"
            ]
          },
          "metadata": {
            "tags": []
          },
          "execution_count": 10
        }
      ]
    },
    {
      "cell_type": "markdown",
      "metadata": {
        "id": "5zwOD5FfJZ-S"
      },
      "source": [
        "**EXERCÍCIO**\n",
        "\n",
        "Modifique a gramática abaixo para permitir atribuições do tipo x=1+2*3:\n",
        "\n",
        "\\<expression\\> ::= NUMBER\n",
        "\n",
        "           | \\<expression\\> \"+\" \\<expression\\>\n",
        " \n",
        "           | \\<expression\\> \"-\" \\<expression\\>\n",
        " \n",
        "           | \\<expression\\> \"*\" \\<expression\\>\n",
        " \n",
        "           | \\<expression\\> \"/\" \\<expression\\>\n",
        " \n",
        "           | \"(\" <expression> \")\""
      ]
    },
    {
      "cell_type": "markdown",
      "metadata": {
        "id": "WDogT1ytJrEt"
      },
      "source": [
        "\\<atrib\\> ::= id \"=\" \\<expression\\>\r\n",
        "\\<expression\\> ::= NUMBER\r\n",
        "\r\n",
        "           | \\<expression\\> \"+\" \\<expression\\>\r\n",
        " \r\n",
        "           | \\<expression\\> \"-\" \\<expression\\>\r\n",
        " \r\n",
        "           | \\<expression\\> \"*\" \\<expression\\>\r\n",
        " \r\n",
        "           | \\<expression\\> \"/\" \\<expression\\>\r\n",
        " \r\n",
        "           | \"(\" <expression> \")\"*digite sua solução aqui*"
      ]
    },
    {
      "cell_type": "markdown",
      "metadata": {
        "id": "ACSuZUyEJ2oQ"
      },
      "source": [
        "**EXERCÍCIO**\n",
        "\n",
        "Implemente um analisador sintático para a gramática modificada do exercício anterior:\n"
      ]
    },
    {
      "cell_type": "code",
      "metadata": {
        "id": "AohGQ2yWKDli"
      },
      "source": [
        "#modificação no analisador léxico\r\n",
        "\r\n",
        "from rply import LexerGenerator\r\n",
        "\r\n",
        "lg = LexerGenerator()\r\n",
        "\r\n",
        "lg.add('ID', r'[a-zA-Z][a-zA-Z0-9]*')\r\n",
        "lg.add('EQUALS', r'=')\r\n",
        "lg.add('NUMBER', r'\\d+')\r\n",
        "lg.add('PLUS', r'\\+')\r\n",
        "lg.add('MINUS', r'-')\r\n",
        "lg.add('MUL', r'\\*')\r\n",
        "lg.add('DIV', r'/')\r\n",
        "lg.add('OPEN_PARENS', r'\\(')\r\n",
        "lg.add('CLOSE_PARENS', r'\\)')\r\n",
        "lg.ignore('\\s+')\r\n",
        "\r\n",
        "lexer = lg.build()"
      ],
      "execution_count": null,
      "outputs": []
    },
    {
      "cell_type": "code",
      "metadata": {
        "id": "IlvoRHhSxPEk"
      },
      "source": [
        "#acrescentar nó para atribuição na árvore sintática\r\n",
        "\r\n",
        "class Attrib(BaseBox):\r\n",
        "    def __init__(self, id, expression):\r\n",
        "        self.id = id\r\n",
        "        self.expression = expression"
      ],
      "execution_count": null,
      "outputs": []
    },
    {
      "cell_type": "code",
      "metadata": {
        "id": "Cmr9g3y0xPTY"
      },
      "source": [
        "#modificar o analisador sintático para reconhecer atribuições\r\n",
        "\r\n",
        "from rply import ParserGenerator\r\n",
        "\r\n",
        "pg = ParserGenerator(\r\n",
        "    # A list of all token names, accepted by the lexer.\r\n",
        "    ['NUMBER', 'OPEN_PARENS', 'CLOSE_PARENS',\r\n",
        "     'PLUS', 'MINUS', 'MUL', 'DIV','ID','EQUALS'\r\n",
        "    ],\r\n",
        "    # A list of precedence rules with ascending precedence, to\r\n",
        "    # disambiguate ambiguous production rules.\r\n",
        "    precedence=[\r\n",
        "        ('left', ['PLUS', 'MINUS']),\r\n",
        "        ('left', ['MUL', 'DIV'])    \r\n",
        "    ]\r\n",
        ")\r\n",
        "\r\n",
        "# regra <atrib>::= ID \"=\" <expression>\r\n",
        "\r\n",
        "@pg.production('atrib : ID EQUALS expression')\r\n",
        "def attrib(p):\r\n",
        "  return Attrib(p[0].getstr(),p[2])\r\n",
        "\r\n",
        "@pg.production('expression : NUMBER')\r\n",
        "def expression_number(p):\r\n",
        "    # p is a list of the pieces matched by the right hand side of the\r\n",
        "    # rule\r\n",
        "    return Number(int(p[0].getstr()))\r\n",
        "\r\n",
        "@pg.production('expression : OPEN_PARENS expression CLOSE_PARENS')\r\n",
        "def expression_parens(p):\r\n",
        "    return p[1]\r\n",
        "\r\n",
        "@pg.production('expression : expression PLUS expression')\r\n",
        "@pg.production('expression : expression MINUS expression')\r\n",
        "@pg.production('expression : expression MUL expression')\r\n",
        "@pg.production('expression : expression DIV expression')\r\n",
        "def expression_binop(p):\r\n",
        "    left = p[0]\r\n",
        "    right = p[2]\r\n",
        "    if p[1].gettokentype() == 'PLUS':\r\n",
        "        return Add(left, right)\r\n",
        "    elif p[1].gettokentype() == 'MINUS':\r\n",
        "        return Sub(left, right)\r\n",
        "    elif p[1].gettokentype() == 'MUL':\r\n",
        "        return Mul(left, right)\r\n",
        "    elif p[1].gettokentype() == 'DIV':\r\n",
        "        return Div(left, right)\r\n",
        "    else:\r\n",
        "        raise AssertionError('Oops, this should not be possible!')\r\n",
        "\r\n",
        "parser = pg.build()"
      ],
      "execution_count": null,
      "outputs": []
    },
    {
      "cell_type": "code",
      "metadata": {
        "colab": {
          "base_uri": "https://localhost:8080/"
        },
        "id": "q2TUV6M7xPXQ",
        "outputId": "8bd17cd5-cd35-4076-9f8c-ec77e45ab851"
      },
      "source": [
        "arvore=parser.parse(lexer.lex('x=1+2*3'))\r\n",
        "print(arvore)\r\n",
        "print(arvore.id)\r\n",
        "print(arvore.expression.eval())"
      ],
      "execution_count": null,
      "outputs": [
        {
          "output_type": "stream",
          "text": [
            "<__main__.Attrib object at 0x7f707d7bfb50>\n",
            "x\n",
            "7\n"
          ],
          "name": "stdout"
        }
      ]
    },
    {
      "cell_type": "markdown",
      "metadata": {
        "id": "2jqRKa4zKMge"
      },
      "source": [
        "**ATIVIDADE EAD**\n",
        "\n",
        "Implemente um analisador sintático para a gramática modificada do exercício anterior:\n",
        "\n",
        "1.   Modifique a gramática anterior para permitir expressões envolvendo exponenciação (ˆ). Por exemplo: x = 2ˆ3.\n",
        "2.   Implente um analisador sintático para reconhecer ou recusar operações de exponenciação.\n",
        "\n"
      ]
    },
    {
      "cell_type": "markdown",
      "metadata": {
        "id": "da4shUuvx60T"
      },
      "source": [
        "\\<expression\\> \"^\" \\<expression\\>\r\n",
        "\r\n",
        "\\<atrib\\> ::= id \"=\" \\<expression\\>\r\n",
        "\\<expression\\> ::= NUMBER\r\n",
        "           | \\<expression\\> \"+\" \\<expression\\>\r\n",
        " \r\n",
        "           | \\<expression\\> \"-\" \\<expression\\>\r\n",
        " \r\n",
        "           | \\<expression\\> \"*\" \\<expression\\>\r\n",
        " \r\n",
        "           | \\<expression\\> \"/\" \\<expression\\>\r\n",
        " \r\n",
        "           | \"(\" <expression> \")\""
      ]
    },
    {
      "cell_type": "code",
      "metadata": {
        "id": "BpjH8X_A0Bvm"
      },
      "source": [
        "#modificação no analisador léxico\r\n",
        "\r\n",
        "from rply import LexerGenerator\r\n",
        "\r\n",
        "lg = LexerGenerator()\r\n",
        "\r\n",
        "lg.add('ID', r'[a-zA-Z][a-zA-Z0-9]*')\r\n",
        "lg.add('EQUALS', r'=')\r\n",
        "lg.add('NUMBER', r'\\d+')\r\n",
        "lg.add('PLUS', r'\\+')\r\n",
        "lg.add('MINUS', r'-')\r\n",
        "lg.add('MUL', r'\\*')\r\n",
        "lg.add('DIV', r'/')\r\n",
        "lg.add('OPEN_PARENS', r'\\(')\r\n",
        "lg.add('CLOSE_PARENS', r'\\)')\r\n",
        "lg.add('POW', r'\\^')\r\n",
        "lg.ignore('\\s+')\r\n",
        "\r\n",
        "lexer = lg.build()"
      ],
      "execution_count": null,
      "outputs": []
    },
    {
      "cell_type": "code",
      "metadata": {
        "id": "gU6XNJBZyJ-R"
      },
      "source": [
        "#acrescentar nó para atribuição na árvore sintática\r\n",
        "\r\n",
        "class Pow(BinaryOp):\r\n",
        "    def eval(self):\r\n",
        "        return self.left.eval() ** self.right.eval()"
      ],
      "execution_count": null,
      "outputs": []
    },
    {
      "cell_type": "code",
      "metadata": {
        "id": "Fzd8v6aFy4hC"
      },
      "source": [
        "#modificar o analisador sintático para reconhecer atribuições\r\n",
        "\r\n",
        "from rply import ParserGenerator\r\n",
        "\r\n",
        "pg = ParserGenerator(\r\n",
        "    # A list of all token names, accepted by the lexer.\r\n",
        "    ['NUMBER', 'OPEN_PARENS', 'CLOSE_PARENS',\r\n",
        "     'PLUS', 'MINUS', 'MUL', 'DIV','ID','EQUALS', 'POW'\r\n",
        "    ],\r\n",
        "    # A list of precedence rules with ascending precedence, to\r\n",
        "    # disambiguate ambiguous production rules.\r\n",
        "    precedence=[\r\n",
        "        ('left', ['PLUS', 'MINUS']),\r\n",
        "        ('left', ['MUL', 'DIV', 'POW'])    \r\n",
        "    ]\r\n",
        ")\r\n",
        "\r\n",
        "# regra <atrib>::= ID \"=\" <expression>\r\n",
        "\r\n",
        "@pg.production('atrib : ID EQUALS expression')\r\n",
        "def attrib(p):\r\n",
        "  return Attrib(p[0].getstr(),p[2])\r\n",
        "\r\n",
        "@pg.production('expression : NUMBER')\r\n",
        "def expression_number(p):\r\n",
        "    # p is a list of the pieces matched by the right hand side of the\r\n",
        "    # rule\r\n",
        "    return Number(int(p[0].getstr()))\r\n",
        "\r\n",
        "@pg.production('expression : OPEN_PARENS expression CLOSE_PARENS')\r\n",
        "def expression_parens(p):\r\n",
        "    return p[1]\r\n",
        "\r\n",
        "@pg.production('expression : expression PLUS expression')\r\n",
        "@pg.production('expression : expression MINUS expression')\r\n",
        "@pg.production('expression : expression MUL expression')\r\n",
        "@pg.production('expression : expression DIV expression')\r\n",
        "@pg.production('expression : expression POW expression')\r\n",
        "def expression_binop(p):\r\n",
        "    left = p[0]\r\n",
        "    right = p[2]\r\n",
        "    if p[1].gettokentype() == 'PLUS':\r\n",
        "        return Add(left, right)\r\n",
        "    elif p[1].gettokentype() == 'MINUS':\r\n",
        "        return Sub(left, right)\r\n",
        "    elif p[1].gettokentype() == 'MUL':\r\n",
        "        return Mul(left, right)\r\n",
        "    elif p[1].gettokentype() == 'DIV':\r\n",
        "        return Div(left, right)\r\n",
        "    elif p[1].gettokentype() == 'POW':\r\n",
        "        return Pow(left, right)\r\n",
        "    else:\r\n",
        "        raise AssertionError('Oops, this should not be possible!')\r\n",
        "\r\n",
        "parser = pg.build()"
      ],
      "execution_count": null,
      "outputs": []
    },
    {
      "cell_type": "code",
      "metadata": {
        "id": "R2HIwgszzE6K"
      },
      "source": [
        "arvore=parser.parse(lexer.lex('x = 2^3'))"
      ],
      "execution_count": null,
      "outputs": []
    },
    {
      "cell_type": "code",
      "metadata": {
        "colab": {
          "base_uri": "https://localhost:8080/"
        },
        "id": "6M67Qi91zOiH",
        "outputId": "e365a2ce-8b71-4cd2-bce8-8c4901b68279"
      },
      "source": [
        "print(arvore.id)\r\n",
        "print(arvore.expression.eval())"
      ],
      "execution_count": null,
      "outputs": [
        {
          "output_type": "stream",
          "text": [
            "x\n",
            "8\n"
          ],
          "name": "stdout"
        }
      ]
    }
  ]
}
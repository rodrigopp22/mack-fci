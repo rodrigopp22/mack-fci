{
  "nbformat": 4,
  "nbformat_minor": 0,
  "metadata": {
    "colab": {
      "name": "COMPILADORES-AULA 8.ipynb",
      "provenance": [],
      "collapsed_sections": [],
      "include_colab_link": true
    },
    "kernelspec": {
      "name": "python3",
      "display_name": "Python 3"
    }
  },
  "cells": [
    {
      "cell_type": "markdown",
      "metadata": {
        "id": "view-in-github",
        "colab_type": "text"
      },
      "source": [
        "<a href=\"https://colab.research.google.com/github/rodrigopp22/mack-fci/blob/master/COMPILADORES_AULA_8.ipynb\" target=\"_parent\"><img src=\"https://colab.research.google.com/assets/colab-badge.svg\" alt=\"Open In Colab\"/></a>"
      ]
    },
    {
      "cell_type": "markdown",
      "metadata": {
        "id": "EwxHf3E81Qyz"
      },
      "source": [
        "**COMPILADORES - AULA 08**\n",
        "\n",
        "**Prof. Luciano Silva**\n",
        "\n",
        "**OBJETIVOS DA AULA:**\n",
        "\n",
        "*   Continuar o estudo do analisador semântico\n",
        "*   Entender o processo de verificação de tipos\n",
        "*   Aplicar o design pattern Visitor para realizar o processo de verificação de tipos\n"
      ]
    },
    {
      "cell_type": "code",
      "metadata": {
        "id": "CbWUx55j1tLM",
        "colab": {
          "base_uri": "https://localhost:8080/"
        },
        "outputId": "b3defcff-5cf1-4d3a-8353-1548a67652d6"
      },
      "source": [
        "!pip install rply"
      ],
      "execution_count": null,
      "outputs": [
        {
          "output_type": "stream",
          "text": [
            "Collecting rply\n",
            "  Downloading https://files.pythonhosted.org/packages/c0/7c/f66be9e75485ae6901ae77d8bdbc3c0e99ca748ab927b3e18205759bde09/rply-0.7.8-py2.py3-none-any.whl\n",
            "Requirement already satisfied: appdirs in /usr/local/lib/python3.7/dist-packages (from rply) (1.4.4)\n",
            "Installing collected packages: rply\n",
            "Successfully installed rply-0.7.8\n"
          ],
          "name": "stdout"
        }
      ]
    },
    {
      "cell_type": "markdown",
      "metadata": {
        "id": "cVnS1-NfbcWa"
      },
      "source": [
        "**ATIVIDADE DA AULA PASSADA**\n",
        "\n",
        "Na aula passada, aumentamos a gramática vista em aula para incluir declaração de variáveis com os tipos int e string, assim como um comando de atribuição. Foi solicitada a implementação de dois visitors:\n",
        "\n",
        "(1) um visitor para montar a tabela de símbolos\n",
        "\n",
        "(2) um visitor para decorar a árvore sintática. Suponha que NUMBER tenha o tipo int.\n"
      ]
    },
    {
      "cell_type": "markdown",
      "metadata": {
        "id": "V2DJEWc_b2aH"
      },
      "source": [
        "\\<prog\\> ::= \\<var-decls\\> \\<atrib\\>\n",
        "\n",
        "\\<var-decls\\> ::= \\<var-decl\\> \n",
        "\n",
        "       | \\<var-decl\\> \\<var-decls\\>\n",
        "\n",
        "\\<var-decl\\> ::= \\<type\\> ID ;\n",
        "\n",
        "\\<type\\> ::= int | string \n",
        "\n",
        "\\<atrib\\> ::= ID = \\<expression\\>\n",
        "\n",
        "\\<expression\\> ::= ID\n",
        "\n",
        "      | NUMBER\n",
        "\n",
        "      | \\<expression\\> \"+\" \\<expression\\>\n",
        " \n",
        "      | \\<expression\\> \"-\" \\<expression\\>\n",
        " \n",
        "      | \\<expression\\> \"*\" \\<expression\\>\n",
        " \n",
        "      | \\<expression\\> \"/\" \\<expression\\>\n",
        " \n",
        "      | \"(\" <expression> \")\""
      ]
    },
    {
      "cell_type": "markdown",
      "metadata": {
        "id": "7OXTzrwi7o0U"
      },
      "source": [
        "Inicialmente, vamos implementar um analisador léxico para esta gramática aumentada:"
      ]
    },
    {
      "cell_type": "code",
      "metadata": {
        "id": "PnT-UX-_6xUo"
      },
      "source": [
        "from rply import LexerGenerator\n",
        "\n",
        "lg = LexerGenerator()\n",
        "\n",
        "lg.add('NUMBER', r'\\d+')\n",
        "lg.add('PLUS', r'\\+')\n",
        "lg.add('MINUS', r'-')\n",
        "lg.add('MUL', r'\\*')\n",
        "lg.add('DIV', r'/')\n",
        "lg.add('OPEN_PARENS', r'\\(')\n",
        "lg.add('CLOSE_PARENS', r'\\)')\n",
        "\n",
        "lg.add('INT', r'int')\n",
        "lg.add('STRING', r'string')\n",
        "lg.add('ID', r'[a-zA-z][a-zA-z0-9]*')\n",
        "lg.add('EQUALS', r'=')\n",
        "lg.add('SEMICOL', r';')\n",
        "\n",
        "lg.ignore('\\s+')\n",
        "\n",
        "lexer = lg.build()"
      ],
      "execution_count": null,
      "outputs": []
    },
    {
      "cell_type": "markdown",
      "metadata": {
        "id": "TSVSY10PLdX0"
      },
      "source": [
        "A seguir, temos a implementação das classes dos nós da árvore sintática, já com o método accept para receber os visitors:"
      ]
    },
    {
      "cell_type": "code",
      "metadata": {
        "id": "7EIkOycX64Ry"
      },
      "source": [
        "from rply.token import BaseBox\n",
        "\n",
        "class Prog(BaseBox):\n",
        "    def __init__(self, decls,atrib):\n",
        "        self.decls = decls\n",
        "        self.atrib = atrib\n",
        "\n",
        "    def accept(self, visitor):\n",
        "        visitor.visit_prog(self)\n",
        "\n",
        "class VarDecls(BaseBox):\n",
        "    def __init__(self, decl,decls):\n",
        "        self.decl = decl\n",
        "        self.decls = decls\n",
        "\n",
        "    def accept(self, visitor):\n",
        "        visitor.visit_vardecls(self)\n",
        "\n",
        "class VarDecl(BaseBox):\n",
        "    def __init__(self, id,tp):\n",
        "        self.id = id\n",
        "        self.tp = tp\n",
        "        \n",
        "\n",
        "    def accept(self, visitor):\n",
        "        visitor.visit_vardecl(self)\n",
        "\n",
        "class Atrib(BaseBox):\n",
        "    def __init__(self, id,expr):\n",
        "        self.id = id\n",
        "        self.expr = expr\n",
        "\n",
        "    def accept(self, visitor):\n",
        "        visitor.visit_atrib(self)\n",
        "\n",
        "class Expr(BaseBox):\n",
        "    def accept(self, visitor):\n",
        "        method_name = 'visit_{}'.format(self.__class__.__name__.lower())\n",
        "        visit = getattr(visitor, method_name)\n",
        "        visit(self)\n",
        "\n",
        "class Id(Expr):\n",
        "    def __init__(self, value):\n",
        "        self.value = value\n",
        "\n",
        "class Number(Expr):\n",
        "    def __init__(self, value):\n",
        "        self.value = value\n",
        "\n",
        "\n",
        "class BinaryOp(Expr):\n",
        "    def __init__(self, left, right):\n",
        "        self.left = left\n",
        "        self.right = right\n",
        "\n",
        "class Add(BinaryOp):\n",
        "  pass\n",
        "    \n",
        "\n",
        "class Sub(BinaryOp):\n",
        "  pass\n",
        "   \n",
        "\n",
        "class Mul(BinaryOp):\n",
        "  pass\n",
        "    \n",
        "\n",
        "class Div(BinaryOp):\n",
        "  pass\n",
        "    "
      ],
      "execution_count": null,
      "outputs": []
    },
    {
      "cell_type": "markdown",
      "metadata": {
        "id": "C7kMPyOivGfx"
      },
      "source": [
        "A seguir, temos o analisador sintático:"
      ]
    },
    {
      "cell_type": "code",
      "metadata": {
        "id": "TAoYMBUSd9R4"
      },
      "source": [
        "from rply import ParserGenerator\n",
        "\n",
        "pg = ParserGenerator(\n",
        "    # A list of all token names, accepted by the lexer.\n",
        "    ['NUMBER', 'OPEN_PARENS', 'CLOSE_PARENS',\n",
        "     'PLUS', 'MINUS', 'MUL', 'DIV', 'INT', 'STRING', 'ID','SEMICOL',\n",
        "     'EQUALS'\n",
        "    ],\n",
        "    # A list of precedence rules with ascending precedence, to\n",
        "    # disambiguate ambiguous production rules.\n",
        "    precedence=[\n",
        "        ('left', ['PLUS', 'MINUS']),\n",
        "        ('left', ['MUL', 'DIV'])    \n",
        "    ]\n",
        ")\n",
        "\n",
        "@pg.production('prog : vardecls atrib')\n",
        "def prog(p):\n",
        "    return Prog(p[0],p[1])\n",
        "\n",
        "@pg.production('vardecls : vardecl')\n",
        "def expression_vardeclsOne(p):\n",
        "    return VarDecls(p[0],None) \n",
        "\n",
        "@pg.production('vardecls : vardecl vardecls')\n",
        "def vardecls(p):\n",
        "    return VarDecls(p[0],p[1])\n",
        "\n",
        "@pg.production('vardecl : STRING ID SEMICOL')\n",
        "def expression_vardeclstring(p):\n",
        "    return VarDecl(p[1].getstr(), p[0].getstr())\n",
        "\n",
        "@pg.production('vardecl : INT ID SEMICOL')\n",
        "def expression_vardeclint(p):\n",
        "    return VarDecl(p[1].getstr(), p[0].getstr())\n",
        "\n",
        "@pg.production('atrib : ID EQUALS expression')\n",
        "def atrib(p):\n",
        "    return Atrib(p[0].getstr(),p[2])\n",
        "\n",
        "\n",
        "@pg.production('expression : ID')\n",
        "def expression_id(p):\n",
        "    return Id(p[0].getstr())\n",
        "\n",
        "@pg.production('expression : NUMBER')\n",
        "def expression_number(p):\n",
        "    return Number(int(p[0].getstr()))\n",
        "\n",
        "@pg.production('expression : OPEN_PARENS expression CLOSE_PARENS')\n",
        "def expression_parens(p):\n",
        "    return p[1]\n",
        "\n",
        "@pg.production('expression : expression PLUS expression')\n",
        "@pg.production('expression : expression MINUS expression')\n",
        "@pg.production('expression : expression MUL expression')\n",
        "@pg.production('expression : expression DIV expression')\n",
        "def expression_binop(p):\n",
        "    left = p[0]\n",
        "    right = p[2]\n",
        "    if p[1].gettokentype() == 'PLUS':\n",
        "        return Add(left, right)\n",
        "    elif p[1].gettokentype() == 'MINUS':\n",
        "        return Sub(left, right)\n",
        "    elif p[1].gettokentype() == 'MUL':\n",
        "        return Mul(left, right)\n",
        "    elif p[1].gettokentype() == 'DIV':\n",
        "        return Div(left, right)\n",
        "    else:\n",
        "        raise AssertionError('Oops, this should not be possible!')\n",
        "\n",
        "parser = pg.build()"
      ],
      "execution_count": null,
      "outputs": []
    },
    {
      "cell_type": "markdown",
      "metadata": {
        "id": "XWyEiA-nvJF4"
      },
      "source": [
        "Aqui, temos a árvore sintática montada..."
      ]
    },
    {
      "cell_type": "markdown",
      "metadata": {
        "id": "5wOrzAIRqGh-"
      },
      "source": [
        ""
      ]
    },
    {
      "cell_type": "code",
      "metadata": {
        "id": "V4TxEXd-cUtb"
      },
      "source": [
        "arvore=parser.parse(lexer.lex('int x;int y;int z;z=x+y'))"
      ],
      "execution_count": null,
      "outputs": []
    },
    {
      "cell_type": "markdown",
      "metadata": {
        "id": "jUlwuv5SvN9X"
      },
      "source": [
        "Aqui, temos a implementação do visitor de montagem da tabela de símbolos:"
      ]
    },
    {
      "cell_type": "code",
      "metadata": {
        "id": "s2P8znQxdM0v"
      },
      "source": [
        "ST={}\n",
        "\n",
        "class Visitor(object):\n",
        "  pass\n",
        "\n",
        "class SymbolTable(Visitor):\n",
        "    def visit_prog(self, prog):\n",
        "        prog.decls.accept(self)\n",
        "        \n",
        "    def visit_vardecls(self, d):\n",
        "        d.decl.accept(self)\n",
        "        if d.decls!=None:\n",
        "          d.decls.accept(self)\n",
        "\n",
        "    def visit_vardecl(self, d):\n",
        "        ST[d.id]=d.tp\n",
        "        "
      ],
      "execution_count": null,
      "outputs": []
    },
    {
      "cell_type": "markdown",
      "metadata": {
        "id": "isLAUFKDvXz9"
      },
      "source": [
        "Finalmente, temos o teste do vísitor de montagem da tabela de símbolos:"
      ]
    },
    {
      "cell_type": "code",
      "metadata": {
        "colab": {
          "base_uri": "https://localhost:8080/"
        },
        "id": "trk-mJNhftih",
        "outputId": "c79e592b-1b7a-43e3-a9e7-f9ed0a4956f6"
      },
      "source": [
        "arvore.accept(SymbolTable())\n",
        "for k, v in ST.items():\n",
        "  print(k, v)"
      ],
      "execution_count": null,
      "outputs": [
        {
          "output_type": "stream",
          "text": [
            "x int\n",
            "y int\n",
            "z string\n"
          ],
          "name": "stdout"
        }
      ]
    },
    {
      "cell_type": "markdown",
      "metadata": {
        "id": "Itq8qe8-vqpW"
      },
      "source": [
        "**EXERCÍCIO**\n",
        "\n",
        "Implementar um visitor para decorar a árvore sintática:"
      ]
    },
    {
      "cell_type": "code",
      "metadata": {
        "id": "ijGTf-c4vzh8"
      },
      "source": [
        "class Decorator(Visitor):\n",
        "  #implemente sua solução aqui"
      ],
      "execution_count": null,
      "outputs": []
    },
    {
      "cell_type": "code",
      "metadata": {
        "id": "q4m0R0oNYtWT"
      },
      "source": [
        "arvore.accept(Decorator())"
      ],
      "execution_count": null,
      "outputs": []
    },
    {
      "cell_type": "markdown",
      "metadata": {
        "id": "YtxVdoQsv5I3"
      },
      "source": [
        "**EXERCÍCIO**\n",
        "\n",
        "Implementar um visitor para verificar os tipos decorados:"
      ]
    },
    {
      "cell_type": "code",
      "metadata": {
        "id": "mybtKcI5wARU"
      },
      "source": [
        "class TypeVerifier(Visitor):\n",
        "  #implemente sua solução aqui"
      ],
      "execution_count": null,
      "outputs": []
    },
    {
      "cell_type": "code",
      "metadata": {
        "id": "smVq72UJc4zc"
      },
      "source": [
        "arvore.accept(TypeVerifier())"
      ],
      "execution_count": null,
      "outputs": []
    },
    {
      "cell_type": "markdown",
      "metadata": {
        "id": "iWCMhttcAJy2"
      },
      "source": [
        "**ATIVIDADE EAD**\n",
        "\n",
        "Ler e fazer um pequeno resumo da máquina de P-Código:\n",
        "\n",
        "https://homepages.cwi.nl/~steven/pascal/book/10pcode.html\n",
        "\n"
      ]
    }
  ]
}